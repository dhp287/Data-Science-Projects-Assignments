{
 "cells": [
  {
   "cell_type": "code",
   "execution_count": 3214,
   "metadata": {
    "collapsed": true
   },
   "outputs": [],
   "source": [
    "import sys\n",
    "import pandas as pd\n",
    "import numpy as np\n",
    "import math"
   ]
  },
  {
   "cell_type": "code",
   "execution_count": 3215,
   "metadata": {},
   "outputs": [
    {
     "data": {
      "text/plain": [
       "Index(['COLLEGE', 'INCOME', 'OVERAGE', 'LEFTOVER', 'HOUSE', 'HANDSET_PRICE',\n",
       "       'OVER_15MINS_CALLS_PER_MONTH', 'AVERAGE_CALL_DURATION',\n",
       "       'REPORTED_SATISFACTION', 'REPORTED_USAGE_LEVEL',\n",
       "       'CONSIDERING_CHANGE_OF_PLAN', 'LEAVE'],\n",
       "      dtype='object')"
      ]
     },
     "execution_count": 3215,
     "metadata": {},
     "output_type": "execute_result"
    }
   ],
   "source": [
    "X_train = pd.read_csv(\"train.csv\")\n",
    "X_train.columns"
   ]
  },
  {
   "cell_type": "code",
   "execution_count": 3216,
   "metadata": {
    "collapsed": true
   },
   "outputs": [],
   "source": [
    "income_grade = []\n",
    "for row in X_train['INCOME']:\n",
    "    if row <= 30000:\n",
    "        income_grade.append(\"1\")\n",
    "    elif row <= 35000:\n",
    "        income_grade.append(\"2\")\n",
    "    elif row <= 40000:\n",
    "        income_grade.append(\"3\")\n",
    "    elif row <= 45000:\n",
    "        income_grade.append(\"4\")\n",
    "    elif row <= 50000:\n",
    "        income_grade.append(\"5\")\n",
    "    elif row <= 55000:\n",
    "        income_grade.append(\"6\")\n",
    "    elif row <= 60000:\n",
    "        income_grade.append(\"7\")\n",
    "    elif row <= 65000:\n",
    "        income_grade.append(\"8\")\n",
    "    elif row <= 70000:\n",
    "        income_grade.append(\"9\")\n",
    "    elif row <= 75000:\n",
    "        income_grade.append(\"10\")\n",
    "    elif row <= 80000:\n",
    "        income_grade.append(\"11\")\n",
    "    elif row <= 85000:\n",
    "        income_grade.append(\"12\")\n",
    "    elif row <= 90000:\n",
    "        income_grade.append(\"13\")\n",
    "    elif row <= 95000:\n",
    "        income_grade.append(\"14\")\n",
    "    elif row <= 100000:\n",
    "        income_grade.append(\"15\")\n",
    "    elif row <= 105000:\n",
    "        income_grade.append(\"16\")\n",
    "    elif row <= 110000:\n",
    "        income_grade.append(\"17\")\n",
    "    elif row <= 115000:\n",
    "        income_grade.append(\"18\")\n",
    "    elif row <= 120000:\n",
    "        income_grade.append(\"19\")\n",
    "    elif row <= 125000:\n",
    "        income_grade.append(\"20\")\n",
    "    elif row <= 130000:\n",
    "        income_grade.append(\"21\")\n",
    "    elif row <= 135000:\n",
    "        income_grade.append(\"22\")\n",
    "    elif row <= 140000:\n",
    "        income_grade.append(\"23\")\n",
    "    elif row <= 145000:\n",
    "        income_grade.append(\"24\")\n",
    "    elif row <= 150000:\n",
    "        income_grade.append(\"25\")\n",
    "    elif row <= 155000:\n",
    "        income_grade.append(\"26\")\n",
    "    else:\n",
    "        income_grade.append(\"27\")\n",
    "X_train['INCOME_GRADE'] = income_grade"
   ]
  },
  {
   "cell_type": "code",
   "execution_count": 3217,
   "metadata": {
    "collapsed": true
   },
   "outputs": [],
   "source": [
    "house_grade = []\n",
    "for row in X_train['HOUSE']:\n",
    "    if row <= 150000:\n",
    "        house_grade.append(\"1\")\n",
    "    elif row <= 200000:\n",
    "        house_grade.append(\"2\")\n",
    "    elif row <= 250000:\n",
    "        house_grade.append(\"3\")\n",
    "    elif row <= 300000:\n",
    "        house_grade.append(\"4\")\n",
    "    elif row <= 350000:\n",
    "        house_grade.append(\"5\")\n",
    "    elif row <= 400000:\n",
    "        house_grade.append(\"6\")\n",
    "    elif row <= 450000:\n",
    "        house_grade.append(\"7\")\n",
    "    elif row <= 500000:\n",
    "        house_grade.append(\"8\")\n",
    "    elif row <= 550000:\n",
    "        house_grade.append(\"9\")\n",
    "    elif row <= 600000:\n",
    "        house_grade.append(\"10\")\n",
    "    elif row <= 650000:\n",
    "        house_grade.append(\"11\")\n",
    "    elif row <= 700000:\n",
    "        house_grade.append(\"12\")\n",
    "    elif row <= 750000:\n",
    "        house_grade.append(\"13\")\n",
    "    elif row <= 800000:\n",
    "        house_grade.append(\"14\")\n",
    "    elif row <= 850000:\n",
    "        house_grade.append(\"15\")\n",
    "    elif row <= 900000:\n",
    "        house_grade.append(\"16\")\n",
    "    elif row <= 950000:\n",
    "        house_grade.append(\"17\")\n",
    "    else:\n",
    "        house_grade.append(\"18\")\n",
    "X_train['HOUSE_GRADE'] = house_grade"
   ]
  },
  {
   "cell_type": "code",
   "execution_count": 3218,
   "metadata": {
    "collapsed": true
   },
   "outputs": [],
   "source": [
    "handset_grade = []\n",
    "for row in X_train['HANDSET_PRICE']:\n",
    "    if row <= 150:\n",
    "        handset_grade.append(\"1\")\n",
    "    elif row <= 200:\n",
    "        handset_grade.append(\"2\")\n",
    "    elif row <= 250:\n",
    "        handset_grade.append(\"3\")\n",
    "    elif row <= 300:\n",
    "        handset_grade.append(\"4\")\n",
    "    elif row <= 350:\n",
    "        handset_grade.append(\"5\")\n",
    "    elif row <= 400:\n",
    "        handset_grade.append(\"6\")\n",
    "    elif row <= 450:\n",
    "        handset_grade.append(\"7\")\n",
    "    elif row <= 500:\n",
    "        handset_grade.append(\"8\")\n",
    "    elif row <= 550:\n",
    "        handset_grade.append(\"9\")\n",
    "    elif row <= 600:\n",
    "        handset_grade.append(\"10\")\n",
    "    elif row <= 650:\n",
    "        handset_grade.append(\"11\")\n",
    "    elif row <= 700:\n",
    "        handset_grade.append(\"12\")\n",
    "    elif row <= 750:\n",
    "        handset_grade.append(\"13\")\n",
    "    elif row <= 800:\n",
    "        handset_grade.append(\"14\")\n",
    "    else:\n",
    "        handset_grade.append(\"15\")\n",
    "X_train['HANDSET_PRICE'] = handset_grade"
   ]
  },
  {
   "cell_type": "code",
   "execution_count": 3219,
   "metadata": {
    "collapsed": true
   },
   "outputs": [],
   "source": [
    "df_train = pd.DataFrame()\n",
    "df_train['COLLEGE'] = X_train['COLLEGE']\n",
    "df_train['INCOME_GRADE'] = X_train['INCOME_GRADE']\n",
    "df_train['OVERAGE'] = X_train['OVERAGE']\n",
    "df_train['LEFTOVER'] = X_train['LEFTOVER']\n",
    "df_train['HOUSE_GRADE'] = X_train['HOUSE_GRADE']\n",
    "df_train['HANDSET_PRICE'] = X_train['HANDSET_PRICE']\n",
    "df_train['OVER_15MINS_CALLS_PER_MONTH'] = X_train['OVER_15MINS_CALLS_PER_MONTH']\n",
    "df_train['AVERAGE_CALL_DURATION'] = X_train['AVERAGE_CALL_DURATION']\n",
    "df_train['REPORTED_SATISFACTION'] = X_train['REPORTED_SATISFACTION']\n",
    "df_train['REPORTED_USAGE_LEVEL'] = X_train['REPORTED_USAGE_LEVEL']\n",
    "df_train['CONSIDERING_CHANGE_OF_PLAN'] = X_train['CONSIDERING_CHANGE_OF_PLAN']\n",
    "df_train['LEAVE'] = X_train['LEAVE']"
   ]
  },
  {
   "cell_type": "code",
   "execution_count": 3220,
   "metadata": {
    "collapsed": true
   },
   "outputs": [],
   "source": [
    "df_train = df_train.dropna(axis=0, how='any')"
   ]
  },
  {
   "cell_type": "code",
   "execution_count": 3221,
   "metadata": {
    "collapsed": true
   },
   "outputs": [],
   "source": [
    "leave_train = df_train['LEAVE']\n",
    "df_train = df_train.drop(['LEAVE'],axis=1)"
   ]
  },
  {
   "cell_type": "code",
   "execution_count": 3222,
   "metadata": {
    "collapsed": true
   },
   "outputs": [],
   "source": [
    "df_train['COLLEGE'] = df_train['COLLEGE'].replace({\"zero\": \"0.0\", \"one\": \"0.1\"})\n",
    "df_train['REPORTED_SATISFACTION'] = df_train['REPORTED_SATISFACTION'].replace({\"very_sat\": \"0.1\", \"sat\": \"0.2\", \"avg\": \"0.3\", \"unsat\": \"0.4\", \"very_unsat\": \"0.5\"})\n",
    "df_train['REPORTED_USAGE_LEVEL'] = df_train['REPORTED_USAGE_LEVEL'].replace({\"very_high\": \"0.1\", \"high\": \"0.2\", \"avg\": \"0.3\", \"little\": \"0.4\", \"very_little\": \"0.5\"})\n",
    "df_train['CONSIDERING_CHANGE_OF_PLAN'] = df_train['CONSIDERING_CHANGE_OF_PLAN'].replace({\"no\": \"0.1\", \"never_thought\": \"0.2\", \"perhaps\": \"0.3\", \"considering\": \"0.4\", \"actively_looking_into_it\": \"0.5\"})"
   ]
  },
  {
   "cell_type": "code",
   "execution_count": 3223,
   "metadata": {
    "collapsed": true
   },
   "outputs": [],
   "source": [
    "#df_train['COLLEGE'] = pd.get_dummies(df_train.COLLEGE)['one']"
   ]
  },
  {
   "cell_type": "code",
   "execution_count": 3224,
   "metadata": {
    "collapsed": true
   },
   "outputs": [],
   "source": [
    "from sklearn.cross_validation import train_test_split\n",
    "from sklearn.preprocessing import StandardScaler\n",
    "scaler = StandardScaler()\n",
    "df_train = scaler.fit_transform(df_train)\n",
    "df_train, df_test, leave_train, leave_test = train_test_split(df_train, leave_train, test_size=0.2, random_state=42)"
   ]
  },
  {
   "cell_type": "code",
   "execution_count": 3225,
   "metadata": {},
   "outputs": [
    {
     "data": {
      "text/plain": [
       "DecisionTreeClassifier(class_weight=None, criterion='gini', max_depth=4,\n",
       "            max_features=None, max_leaf_nodes=None,\n",
       "            min_impurity_decrease=0.0, min_impurity_split=None,\n",
       "            min_samples_leaf=5, min_samples_split=2,\n",
       "            min_weight_fraction_leaf=0.0, presort=False, random_state=None,\n",
       "            splitter='best')"
      ]
     },
     "execution_count": 3225,
     "metadata": {},
     "output_type": "execute_result"
    }
   ],
   "source": [
    "from sklearn.tree import DecisionTreeClassifier\n",
    "tree = DecisionTreeClassifier(max_depth=4, min_samples_leaf=5)\n",
    "tree.fit(df_train,leave_train)"
   ]
  },
  {
   "cell_type": "code",
   "execution_count": 3226,
   "metadata": {
    "collapsed": true
   },
   "outputs": [],
   "source": [
    "#X_test = pd.read_csv(\"test.csv\")"
   ]
  },
  {
   "cell_type": "code",
   "execution_count": 3227,
   "metadata": {},
   "outputs": [
    {
     "data": {
      "text/plain": [
       "'income_grade_test = []\\nfor row in X_test[\\'INCOME\\']:\\n    if row <= 30000:\\n        income_grade_test.append(\"1\")\\n    elif row <= 35000:\\n        income_grade_test.append(\"2\")\\n    elif row <= 40000:\\n        income_grade_test.append(\"3\")\\n    elif row <= 45000:\\n        income_grade_test.append(\"4\")\\n    elif row <= 50000:\\n        income_grade_test.append(\"5\")\\n    elif row <= 55000:\\n        income_grade_test.append(\"6\")\\n    elif row <= 60000:\\n        income_grade_test.append(\"7\")\\n    elif row <= 65000:\\n        income_grade_test.append(\"8\")\\n    elif row <= 70000:\\n        income_grade_test.append(\"9\")\\n    elif row <= 75000:\\n        income_grade_test.append(\"10\")\\n    elif row <= 80000:\\n        income_grade_test.append(\"11\")\\n    elif row <= 85000:\\n        income_grade_test.append(\"12\")\\n    elif row <= 90000:\\n        income_grade_test.append(\"13\")\\n    elif row <= 95000:\\n        income_grade_test.append(\"14\")\\n    elif row <= 100000:\\n        income_grade_test.append(\"15\")\\n    elif row <= 105000:\\n        income_grade_test.append(\"16\")\\n    elif row <= 110000:\\n        income_grade_test.append(\"17\")\\n    elif row <= 115000:\\n        income_grade_test.append(\"18\")\\n    elif row <= 120000:\\n        income_grade_test.append(\"19\")\\n    elif row <= 125000:\\n        income_grade_test.append(\"20\")\\n    elif row <= 130000:\\n        income_grade_test.append(\"21\")\\n    elif row <= 135000:\\n        income_grade_test.append(\"22\")\\n    elif row <= 140000:\\n        income_grade_test.append(\"23\")\\n    elif row <= 145000:\\n        income_grade_test.append(\"24\")\\n    elif row <= 150000:\\n        income_grade_test.append(\"25\")\\n    elif row <= 155000:\\n        income_grade_test.append(\"26\")\\n    else:\\n        income_grade_test.append(\"27\")\\nX_test[\\'INCOME_GRADE\\'] = income_grade_test'"
      ]
     },
     "execution_count": 3227,
     "metadata": {},
     "output_type": "execute_result"
    }
   ],
   "source": [
    "\"\"\"income_grade_test = []\n",
    "for row in X_test['INCOME']:\n",
    "    if row <= 30000:\n",
    "        income_grade_test.append(\"1\")\n",
    "    elif row <= 35000:\n",
    "        income_grade_test.append(\"2\")\n",
    "    elif row <= 40000:\n",
    "        income_grade_test.append(\"3\")\n",
    "    elif row <= 45000:\n",
    "        income_grade_test.append(\"4\")\n",
    "    elif row <= 50000:\n",
    "        income_grade_test.append(\"5\")\n",
    "    elif row <= 55000:\n",
    "        income_grade_test.append(\"6\")\n",
    "    elif row <= 60000:\n",
    "        income_grade_test.append(\"7\")\n",
    "    elif row <= 65000:\n",
    "        income_grade_test.append(\"8\")\n",
    "    elif row <= 70000:\n",
    "        income_grade_test.append(\"9\")\n",
    "    elif row <= 75000:\n",
    "        income_grade_test.append(\"10\")\n",
    "    elif row <= 80000:\n",
    "        income_grade_test.append(\"11\")\n",
    "    elif row <= 85000:\n",
    "        income_grade_test.append(\"12\")\n",
    "    elif row <= 90000:\n",
    "        income_grade_test.append(\"13\")\n",
    "    elif row <= 95000:\n",
    "        income_grade_test.append(\"14\")\n",
    "    elif row <= 100000:\n",
    "        income_grade_test.append(\"15\")\n",
    "    elif row <= 105000:\n",
    "        income_grade_test.append(\"16\")\n",
    "    elif row <= 110000:\n",
    "        income_grade_test.append(\"17\")\n",
    "    elif row <= 115000:\n",
    "        income_grade_test.append(\"18\")\n",
    "    elif row <= 120000:\n",
    "        income_grade_test.append(\"19\")\n",
    "    elif row <= 125000:\n",
    "        income_grade_test.append(\"20\")\n",
    "    elif row <= 130000:\n",
    "        income_grade_test.append(\"21\")\n",
    "    elif row <= 135000:\n",
    "        income_grade_test.append(\"22\")\n",
    "    elif row <= 140000:\n",
    "        income_grade_test.append(\"23\")\n",
    "    elif row <= 145000:\n",
    "        income_grade_test.append(\"24\")\n",
    "    elif row <= 150000:\n",
    "        income_grade_test.append(\"25\")\n",
    "    elif row <= 155000:\n",
    "        income_grade_test.append(\"26\")\n",
    "    else:\n",
    "        income_grade_test.append(\"27\")\n",
    "X_test['INCOME_GRADE'] = income_grade_test\"\"\""
   ]
  },
  {
   "cell_type": "code",
   "execution_count": 3228,
   "metadata": {},
   "outputs": [
    {
     "data": {
      "text/plain": [
       "'house_grade_test = []\\nfor row in X_test[\\'HOUSE\\']:\\n    if row <= 150000:\\n        house_grade_test.append(\"1\")\\n    elif row <= 200000:\\n        house_grade_test.append(\"2\")\\n    elif row <= 250000:\\n        house_grade_test.append(\"3\")\\n    elif row <= 300000:\\n        house_grade_test.append(\"4\")\\n    elif row <= 350000:\\n        house_grade_test.append(\"5\")\\n    elif row <= 400000:\\n        house_grade_test.append(\"6\")\\n    elif row <= 450000:\\n        house_grade_test.append(\"7\")\\n    elif row <= 500000:\\n        house_grade_test.append(\"8\")\\n    elif row <= 550000:\\n        house_grade_test.append(\"9\")\\n    elif row <= 600000:\\n        house_grade_test.append(\"10\")\\n    elif row <= 650000:\\n        house_grade_test.append(\"11\")\\n    elif row <= 700000:\\n        house_grade_test.append(\"12\")\\n    elif row <= 750000:\\n        house_grade_test.append(\"13\")\\n    elif row <= 800000:\\n        house_grade_test.append(\"14\")\\n    elif row <= 850000:\\n        house_grade_test.append(\"15\")\\n    elif row <= 900000:\\n        house_grade_test.append(\"16\")\\n    elif row <= 950000:\\n        house_grade_test.append(\"17\")\\n    else:\\n        house_grade_test.append(\"18\")\\nX_test[\\'HOUSE_GRADE\\'] = house_grade_test'"
      ]
     },
     "execution_count": 3228,
     "metadata": {},
     "output_type": "execute_result"
    }
   ],
   "source": [
    "\"\"\"house_grade_test = []\n",
    "for row in X_test['HOUSE']:\n",
    "    if row <= 150000:\n",
    "        house_grade_test.append(\"1\")\n",
    "    elif row <= 200000:\n",
    "        house_grade_test.append(\"2\")\n",
    "    elif row <= 250000:\n",
    "        house_grade_test.append(\"3\")\n",
    "    elif row <= 300000:\n",
    "        house_grade_test.append(\"4\")\n",
    "    elif row <= 350000:\n",
    "        house_grade_test.append(\"5\")\n",
    "    elif row <= 400000:\n",
    "        house_grade_test.append(\"6\")\n",
    "    elif row <= 450000:\n",
    "        house_grade_test.append(\"7\")\n",
    "    elif row <= 500000:\n",
    "        house_grade_test.append(\"8\")\n",
    "    elif row <= 550000:\n",
    "        house_grade_test.append(\"9\")\n",
    "    elif row <= 600000:\n",
    "        house_grade_test.append(\"10\")\n",
    "    elif row <= 650000:\n",
    "        house_grade_test.append(\"11\")\n",
    "    elif row <= 700000:\n",
    "        house_grade_test.append(\"12\")\n",
    "    elif row <= 750000:\n",
    "        house_grade_test.append(\"13\")\n",
    "    elif row <= 800000:\n",
    "        house_grade_test.append(\"14\")\n",
    "    elif row <= 850000:\n",
    "        house_grade_test.append(\"15\")\n",
    "    elif row <= 900000:\n",
    "        house_grade_test.append(\"16\")\n",
    "    elif row <= 950000:\n",
    "        house_grade_test.append(\"17\")\n",
    "    else:\n",
    "        house_grade_test.append(\"18\")\n",
    "X_test['HOUSE_GRADE'] = house_grade_test\"\"\""
   ]
  },
  {
   "cell_type": "code",
   "execution_count": 3229,
   "metadata": {},
   "outputs": [
    {
     "data": {
      "text/plain": [
       "'handset_grade_test = []\\nfor row in X_test[\\'HANDSET_PRICE\\']:\\n    if row <= 150:\\n        handset_grade_test.append(\"1\")\\n    elif row <= 200:\\n        handset_grade_test.append(\"2\")\\n    elif row <= 250:\\n        handset_grade_test.append(\"3\")\\n    elif row <= 300:\\n        handset_grade_test.append(\"4\")\\n    elif row <= 350:\\n        handset_grade_test.append(\"5\")\\n    elif row <= 400:\\n        handset_grade_test.append(\"6\")\\n    elif row <= 450:\\n        handset_grade_test.append(\"7\")\\n    elif row <= 500:\\n        handset_grade_test.append(\"8\")\\n    elif row <= 550:\\n        handset_grade_test.append(\"9\")\\n    elif row <= 600:\\n        handset_grade_test.append(\"10\")\\n    elif row <= 650:\\n        handset_grade_test.append(\"11\")\\n    elif row <= 700:\\n        handset_grade_test.append(\"12\")\\n    elif row <= 750:\\n        handset_grade_test.append(\"13\")\\n    elif row <= 800:\\n        handset_grade_test.append(\"14\")\\n    else:\\n        handset_grade_test.append(\"15\")\\nX_test[\\'HANDSET_PRICE\\'] = handset_grade_test'"
      ]
     },
     "execution_count": 3229,
     "metadata": {},
     "output_type": "execute_result"
    }
   ],
   "source": [
    "\"\"\"handset_grade_test = []\n",
    "for row in X_test['HANDSET_PRICE']:\n",
    "    if row <= 150:\n",
    "        handset_grade_test.append(\"1\")\n",
    "    elif row <= 200:\n",
    "        handset_grade_test.append(\"2\")\n",
    "    elif row <= 250:\n",
    "        handset_grade_test.append(\"3\")\n",
    "    elif row <= 300:\n",
    "        handset_grade_test.append(\"4\")\n",
    "    elif row <= 350:\n",
    "        handset_grade_test.append(\"5\")\n",
    "    elif row <= 400:\n",
    "        handset_grade_test.append(\"6\")\n",
    "    elif row <= 450:\n",
    "        handset_grade_test.append(\"7\")\n",
    "    elif row <= 500:\n",
    "        handset_grade_test.append(\"8\")\n",
    "    elif row <= 550:\n",
    "        handset_grade_test.append(\"9\")\n",
    "    elif row <= 600:\n",
    "        handset_grade_test.append(\"10\")\n",
    "    elif row <= 650:\n",
    "        handset_grade_test.append(\"11\")\n",
    "    elif row <= 700:\n",
    "        handset_grade_test.append(\"12\")\n",
    "    elif row <= 750:\n",
    "        handset_grade_test.append(\"13\")\n",
    "    elif row <= 800:\n",
    "        handset_grade_test.append(\"14\")\n",
    "    else:\n",
    "        handset_grade_test.append(\"15\")\n",
    "X_test['HANDSET_PRICE'] = handset_grade_test\"\"\""
   ]
  },
  {
   "cell_type": "code",
   "execution_count": 3230,
   "metadata": {},
   "outputs": [
    {
     "data": {
      "text/plain": [
       "\"df_test = pd.DataFrame()\\ndf_test['COLLEGE'] = X_test['COLLEGE']\\ndf_test['INCOME_GRADE'] = X_test['INCOME_GRADE']\\ndf_test['OVERAGE'] = X_test['OVERAGE']\\ndf_test['LEFTOVER'] = X_test['LEFTOVER']\\ndf_test['HOUSE_GRADE'] = X_test['HOUSE_GRADE']\\ndf_test['HANDSET_PRICE'] = X_test['HANDSET_PRICE']\\ndf_test['OVER_15MINS_CALLS_PER_MONTH'] = X_test['OVER_15MINS_CALLS_PER_MONTH']\\ndf_test['AVERAGE_CALL_DURATION'] = X_test['AVERAGE_CALL_DURATION']\\ndf_test['REPORTED_SATISFACTION'] = X_test['REPORTED_SATISFACTION']\\ndf_test['REPORTED_USAGE_LEVEL'] = X_test['REPORTED_USAGE_LEVEL']\\ndf_test['CONSIDERING_CHANGE_OF_PLAN'] = X_test['CONSIDERING_CHANGE_OF_PLAN']\""
      ]
     },
     "execution_count": 3230,
     "metadata": {},
     "output_type": "execute_result"
    }
   ],
   "source": [
    "\"\"\"df_test = pd.DataFrame()\n",
    "df_test['COLLEGE'] = X_test['COLLEGE']\n",
    "df_test['INCOME_GRADE'] = X_test['INCOME_GRADE']\n",
    "df_test['OVERAGE'] = X_test['OVERAGE']\n",
    "df_test['LEFTOVER'] = X_test['LEFTOVER']\n",
    "df_test['HOUSE_GRADE'] = X_test['HOUSE_GRADE']\n",
    "df_test['HANDSET_PRICE'] = X_test['HANDSET_PRICE']\n",
    "df_test['OVER_15MINS_CALLS_PER_MONTH'] = X_test['OVER_15MINS_CALLS_PER_MONTH']\n",
    "df_test['AVERAGE_CALL_DURATION'] = X_test['AVERAGE_CALL_DURATION']\n",
    "df_test['REPORTED_SATISFACTION'] = X_test['REPORTED_SATISFACTION']\n",
    "df_test['REPORTED_USAGE_LEVEL'] = X_test['REPORTED_USAGE_LEVEL']\n",
    "df_test['CONSIDERING_CHANGE_OF_PLAN'] = X_test['CONSIDERING_CHANGE_OF_PLAN']\"\"\""
   ]
  },
  {
   "cell_type": "code",
   "execution_count": 3231,
   "metadata": {
    "collapsed": true
   },
   "outputs": [],
   "source": [
    "#df_test = df_test.dropna(axis=0, how='any')"
   ]
  },
  {
   "cell_type": "code",
   "execution_count": 3232,
   "metadata": {
    "collapsed": true
   },
   "outputs": [],
   "source": [
    "#df_test['REPORTED_SATISFACTION'] = df_test['REPORTED_SATISFACTION'].replace({\"very_sat\": \"1\", \"sat\": \"2\", \"avg\": \"3\", \"unsat\": \"4\", \"very_unsat\": \"5\"})\n",
    "#df_test['REPORTED_USAGE_LEVEL'] = df_test['REPORTED_USAGE_LEVEL'].replace({\"very_high\": \"1\", \"high\": \"2\", \"avg\": \"3\", \"little\": \"4\", \"very_little\": \"5\"})\n",
    "#df_test['CONSIDERING_CHANGE_OF_PLAN'] = df_test['CONSIDERING_CHANGE_OF_PLAN'].replace({\"no\": \"1\", \"never_thought\": \"2\", \"perhaps\": \"3\", \"considering\": \"4\", \"actively_looking_into_it\": \"5\"})"
   ]
  },
  {
   "cell_type": "code",
   "execution_count": 3233,
   "metadata": {
    "collapsed": true
   },
   "outputs": [],
   "source": [
    "#df_test['COLLEGE'] = pd.get_dummies(df_test.COLLEGE)['one']"
   ]
  },
  {
   "cell_type": "code",
   "execution_count": 3234,
   "metadata": {},
   "outputs": [
    {
     "name": "stdout",
     "output_type": "stream",
     "text": [
      "0.717777777778\n"
     ]
    }
   ],
   "source": [
    "from sklearn.metrics import accuracy_score\n",
    "final_leave = pd.DataFrame()\n",
    "final_leave['LEAVE'] = tree.predict(df_test)\n",
    "#writer = pd.ExcelWriter('output.xlsx')\n",
    "#final_leave.to_excel(writer,'sheet1')\n",
    "#writer.save()\n",
    "#print(final_leave['LEAVE'])\n",
    "print(accuracy_score(leave_test, final_leave['LEAVE']))"
   ]
  }
 ],
 "metadata": {
  "kernelspec": {
   "display_name": "Python 3",
   "language": "python",
   "name": "python3"
  },
  "language_info": {
   "codemirror_mode": {
    "name": "ipython",
    "version": 3
   },
   "file_extension": ".py",
   "mimetype": "text/x-python",
   "name": "python",
   "nbconvert_exporter": "python",
   "pygments_lexer": "ipython3",
   "version": "3.6.3"
  }
 },
 "nbformat": 4,
 "nbformat_minor": 2
}
