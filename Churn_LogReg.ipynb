{
 "cells": [
  {
   "cell_type": "code",
   "execution_count": 90,
   "metadata": {
    "collapsed": true
   },
   "outputs": [],
   "source": [
    "import sys\n",
    "import pandas as pd\n",
    "import numpy as np"
   ]
  },
  {
   "cell_type": "code",
   "execution_count": 91,
   "metadata": {
    "scrolled": true
   },
   "outputs": [
    {
     "data": {
      "text/plain": [
       "Index(['COLLEGE', 'INCOME', 'OVERAGE', 'LEFTOVER', 'HOUSE', 'HANDSET_PRICE',\n",
       "       'OVER_15MINS_CALLS_PER_MONTH', 'AVERAGE_CALL_DURATION',\n",
       "       'REPORTED_SATISFACTION', 'REPORTED_USAGE_LEVEL',\n",
       "       'CONSIDERING_CHANGE_OF_PLAN', 'LEAVE'],\n",
       "      dtype='object')"
      ]
     },
     "execution_count": 91,
     "metadata": {},
     "output_type": "execute_result"
    }
   ],
   "source": [
    "X_train = pd.read_csv(\"train.csv\")\n",
    "X_train.columns"
   ]
  },
  {
   "cell_type": "code",
   "execution_count": 92,
   "metadata": {
    "collapsed": true
   },
   "outputs": [],
   "source": [
    "income_grade = []\n",
    "for row in X_train['INCOME']:\n",
    "    if row <= 30000:\n",
    "        income_grade.append(\"1\")\n",
    "    elif row <= 35000:\n",
    "        income_grade.append(\"2\")\n",
    "    elif row <= 40000:\n",
    "        income_grade.append(\"3\")\n",
    "    elif row <= 45000:\n",
    "        income_grade.append(\"4\")\n",
    "    elif row <= 50000:\n",
    "        income_grade.append(\"5\")\n",
    "    elif row <= 55000:\n",
    "        income_grade.append(\"6\")\n",
    "    elif row <= 60000:\n",
    "        income_grade.append(\"7\")\n",
    "    elif row <= 65000:\n",
    "        income_grade.append(\"8\")\n",
    "    elif row <= 70000:\n",
    "        income_grade.append(\"9\")\n",
    "    elif row <= 75000:\n",
    "        income_grade.append(\"10\")\n",
    "    elif row <= 80000:\n",
    "        income_grade.append(\"11\")\n",
    "    elif row <= 85000:\n",
    "        income_grade.append(\"12\")\n",
    "    elif row <= 90000:\n",
    "        income_grade.append(\"13\")\n",
    "    elif row <= 95000:\n",
    "        income_grade.append(\"14\")\n",
    "    elif row <= 100000:\n",
    "        income_grade.append(\"15\")\n",
    "    elif row <= 105000:\n",
    "        income_grade.append(\"16\")\n",
    "    elif row <= 110000:\n",
    "        income_grade.append(\"17\")\n",
    "    elif row <= 115000:\n",
    "        income_grade.append(\"18\")\n",
    "    elif row <= 120000:\n",
    "        income_grade.append(\"19\")\n",
    "    elif row <= 125000:\n",
    "        income_grade.append(\"20\")\n",
    "    elif row <= 130000:\n",
    "        income_grade.append(\"21\")\n",
    "    elif row <= 135000:\n",
    "        income_grade.append(\"22\")\n",
    "    elif row <= 140000:\n",
    "        income_grade.append(\"23\")\n",
    "    elif row <= 145000:\n",
    "        income_grade.append(\"24\")\n",
    "    elif row <= 150000:\n",
    "        income_grade.append(\"25\")\n",
    "    elif row <= 155000:\n",
    "        income_grade.append(\"26\")\n",
    "    else:\n",
    "        income_grade.append(\"27\")\n",
    "X_train['INCOME_GRADE'] = income_grade"
   ]
  },
  {
   "cell_type": "code",
   "execution_count": 93,
   "metadata": {
    "collapsed": true
   },
   "outputs": [],
   "source": [
    "house_grade = []\n",
    "for row in X_train['HOUSE']:\n",
    "    if row <= 150000:\n",
    "        house_grade.append(\"1\")\n",
    "    elif row <= 200000:\n",
    "        house_grade.append(\"2\")\n",
    "    elif row <= 250000:\n",
    "        house_grade.append(\"3\")\n",
    "    elif row <= 300000:\n",
    "        house_grade.append(\"4\")\n",
    "    elif row <= 350000:\n",
    "        house_grade.append(\"5\")\n",
    "    elif row <= 400000:\n",
    "        house_grade.append(\"6\")\n",
    "    elif row <= 450000:\n",
    "        house_grade.append(\"7\")\n",
    "    elif row <= 500000:\n",
    "        house_grade.append(\"8\")\n",
    "    elif row <= 550000:\n",
    "        house_grade.append(\"9\")\n",
    "    elif row <= 600000:\n",
    "        house_grade.append(\"10\")\n",
    "    elif row <= 650000:\n",
    "        house_grade.append(\"11\")\n",
    "    elif row <= 700000:\n",
    "        house_grade.append(\"12\")\n",
    "    elif row <= 750000:\n",
    "        house_grade.append(\"13\")\n",
    "    elif row <= 800000:\n",
    "        house_grade.append(\"14\")\n",
    "    elif row <= 850000:\n",
    "        house_grade.append(\"15\")\n",
    "    elif row <= 900000:\n",
    "        house_grade.append(\"16\")\n",
    "    elif row <= 950000:\n",
    "        house_grade.append(\"17\")\n",
    "    else:\n",
    "        house_grade.append(\"18\")\n",
    "X_train['HOUSE_GRADE'] = house_grade"
   ]
  },
  {
   "cell_type": "code",
   "execution_count": 94,
   "metadata": {},
   "outputs": [],
   "source": [
    "handset_grade = []\n",
    "for row in X_train['HANDSET_PRICE']:\n",
    "    if row <= 150:\n",
    "        handset_grade.append(\"1\")\n",
    "    elif row <= 200:\n",
    "        handset_grade.append(\"2\")\n",
    "    elif row <= 250:\n",
    "        handset_grade.append(\"3\")\n",
    "    elif row <= 300:\n",
    "        handset_grade.append(\"4\")\n",
    "    elif row <= 350:\n",
    "        handset_grade.append(\"5\")\n",
    "    elif row <= 400:\n",
    "        handset_grade.append(\"6\")\n",
    "    elif row <= 450:\n",
    "        handset_grade.append(\"7\")\n",
    "    elif row <= 500:\n",
    "        handset_grade.append(\"8\")\n",
    "    elif row <= 550:\n",
    "        handset_grade.append(\"9\")\n",
    "    elif row <= 600:\n",
    "        handset_grade.append(\"10\")\n",
    "    elif row <= 650:\n",
    "        handset_grade.append(\"11\")\n",
    "    elif row <= 700:\n",
    "        handset_grade.append(\"12\")\n",
    "    elif row <= 750:\n",
    "        handset_grade.append(\"13\")\n",
    "    elif row <= 800:\n",
    "        handset_grade.append(\"14\")\n",
    "    else:\n",
    "        handset_grade.append(\"15\")\n",
    "X_train['HANDSET_PRICE'] = handset_grade"
   ]
  },
  {
   "cell_type": "code",
   "execution_count": 95,
   "metadata": {
    "collapsed": true
   },
   "outputs": [],
   "source": [
    "df_train = pd.DataFrame()\n",
    "df_train['COLLEGE'] = X_train['COLLEGE']\n",
    "df_train['INCOME_GRADE'] = X_train['INCOME_GRADE']\n",
    "df_train['OVERAGE'] = X_train['OVERAGE']\n",
    "df_train['LEFTOVER'] = X_train['LEFTOVER']\n",
    "df_train['HOUSE_GRADE'] = X_train['HOUSE_GRADE']\n",
    "df_train['HANDSET_PRICE'] = X_train['HANDSET_PRICE']\n",
    "df_train['OVER_15MINS_CALLS_PER_MONTH'] = X_train['OVER_15MINS_CALLS_PER_MONTH']\n",
    "df_train['AVERAGE_CALL_DURATION'] = X_train['AVERAGE_CALL_DURATION']\n",
    "df_train['REPORTED_SATISFACTION'] = X_train['REPORTED_SATISFACTION']\n",
    "df_train['REPORTED_USAGE_LEVEL'] = X_train['REPORTED_USAGE_LEVEL']\n",
    "df_train['CONSIDERING_CHANGE_OF_PLAN'] = X_train['CONSIDERING_CHANGE_OF_PLAN']\n",
    "df_train['LEAVE'] = X_train['LEAVE']"
   ]
  },
  {
   "cell_type": "code",
   "execution_count": 96,
   "metadata": {},
   "outputs": [
    {
     "data": {
      "text/plain": [
       "(18000, 12)"
      ]
     },
     "execution_count": 96,
     "metadata": {},
     "output_type": "execute_result"
    }
   ],
   "source": [
    "df_train = df_train.dropna(axis=0, how='any')\n",
    "df_train.shape"
   ]
  },
  {
   "cell_type": "code",
   "execution_count": 97,
   "metadata": {
    "collapsed": true
   },
   "outputs": [],
   "source": [
    "leave_train = df_train['LEAVE']\n",
    "df_train = df_train.drop(['LEAVE'],axis=1)"
   ]
  },
  {
   "cell_type": "code",
   "execution_count": 98,
   "metadata": {
    "collapsed": true
   },
   "outputs": [],
   "source": [
    "df_train['REPORTED_SATISFACTION'] = df_train['REPORTED_SATISFACTION'].replace({\"very_sat\": \"1\", \"sat\": \"2\", \"avg\": \"3\", \"unsat\": \"4\", \"very_unsat\": \"5\"})\n",
    "df_train['REPORTED_USAGE_LEVEL'] = df_train['REPORTED_USAGE_LEVEL'].replace({\"very_high\": \"1\", \"high\": \"2\", \"avg\": \"3\", \"little\": \"4\", \"very_little\": \"5\"})\n",
    "df_train['CONSIDERING_CHANGE_OF_PLAN'] = df_train['CONSIDERING_CHANGE_OF_PLAN'].replace({\"no\": \"1\", \"never_thought\": \"2\", \"perhaps\": \"3\", \"considering\": \"4\", \"actively_looking_into_it\": \"5\"})"
   ]
  },
  {
   "cell_type": "code",
   "execution_count": 99,
   "metadata": {
    "collapsed": true
   },
   "outputs": [],
   "source": [
    "df_train['COLLEGE'] = pd.get_dummies(df_train.COLLEGE)['one']"
   ]
  },
  {
   "cell_type": "code",
   "execution_count": 100,
   "metadata": {},
   "outputs": [],
   "source": [
    "from sklearn.cross_validation import train_test_split\n",
    "from sklearn.preprocessing import StandardScaler\n",
    "scaler = StandardScaler()\n",
    "df_train = scaler.fit_transform(df_train)\n",
    "df_train, df_test, leave_train, leave_test = train_test_split(df_train, leave_train, test_size=0.2, random_state=42)"
   ]
  },
  {
   "cell_type": "code",
   "execution_count": 101,
   "metadata": {},
   "outputs": [
    {
     "data": {
      "text/plain": [
       "LogisticRegression(C=1, class_weight=None, dual=False, fit_intercept=True,\n",
       "          intercept_scaling=1, max_iter=100, multi_class='ovr', n_jobs=1,\n",
       "          penalty='l1', random_state=100, solver='liblinear', tol=0.0001,\n",
       "          verbose=0, warm_start=False)"
      ]
     },
     "execution_count": 101,
     "metadata": {},
     "output_type": "execute_result"
    }
   ],
   "source": [
    "from sklearn.linear_model import LogisticRegression\n",
    "model = LogisticRegression(C=1, class_weight=None, dual=False, fit_intercept=True,\n",
    "          intercept_scaling=1, max_iter=100, multi_class='ovr', n_jobs=1,\n",
    "          penalty='l1', random_state=100, solver='liblinear', tol=0.0001,\n",
    "          verbose=0, warm_start=False)\n",
    "model.fit(df_train,leave_train)"
   ]
  },
  {
   "cell_type": "code",
   "execution_count": 102,
   "metadata": {
    "collapsed": true
   },
   "outputs": [],
   "source": [
    "#df_test = pd.read_csv(\"test.csv\")\n",
    "#df_test.columns"
   ]
  },
  {
   "cell_type": "code",
   "execution_count": 103,
   "metadata": {
    "collapsed": true
   },
   "outputs": [],
   "source": [
    "#df_test = df_test.dropna(axis=0, how='any')\n",
    "#df_test.shape"
   ]
  },
  {
   "cell_type": "code",
   "execution_count": 104,
   "metadata": {
    "collapsed": true
   },
   "outputs": [],
   "source": [
    "#df_test['REPORTED_SATISFACTION'] = df_test['REPORTED_SATISFACTION'].replace({\"very_sat\": \"1\", \"sat\": \"2\", \"avg\": \"3\", \"unsat\": \"4\", \"very_unsat\": \"5\"})\n",
    "#df_test['REPORTED_USAGE_LEVEL'] = df_test['REPORTED_USAGE_LEVEL'].replace({\"very_high\": \"1\", \"high\": \"2\", \"avg\": \"3\", \"little\": \"4\", \"very_little\": \"5\"})\n",
    "#df_test['CONSIDERING_CHANGE_OF_PLAN'] = df_test['CONSIDERING_CHANGE_OF_PLAN'].replace({\"no\": \"1\", \"never_thought\": \"2\", \"perhaps\": \"3\", \"considering\": \"4\", \"actively_looking_into_it\": \"5\"})"
   ]
  },
  {
   "cell_type": "code",
   "execution_count": 105,
   "metadata": {
    "collapsed": true
   },
   "outputs": [],
   "source": [
    "#df_test['COLLEGE'] = pd.get_dummies(df_test.COLLEGE)['one']"
   ]
  },
  {
   "cell_type": "code",
   "execution_count": 106,
   "metadata": {},
   "outputs": [
    {
     "name": "stdout",
     "output_type": "stream",
     "text": [
      "0.639722222222\n"
     ]
    }
   ],
   "source": [
    "from sklearn.metrics import accuracy_score\n",
    "final_leave = pd.DataFrame()\n",
    "final_leave['LEAVE'] = model.predict(df_test)\n",
    "#writer = pd.ExcelWriter('output.xlsx')\n",
    "#final_leave.to_excel(writer,'sheet1')\n",
    "#writer.save()\n",
    "print(accuracy_score(leave_test, final_leave['LEAVE']))"
   ]
  }
 ],
 "metadata": {
  "kernelspec": {
   "display_name": "Python 3",
   "language": "python",
   "name": "python3"
  },
  "language_info": {
   "codemirror_mode": {
    "name": "ipython",
    "version": 3
   },
   "file_extension": ".py",
   "mimetype": "text/x-python",
   "name": "python",
   "nbconvert_exporter": "python",
   "pygments_lexer": "ipython3",
   "version": "3.6.3"
  }
 },
 "nbformat": 4,
 "nbformat_minor": 2
}
