{
 "cells": [
  {
   "cell_type": "markdown",
   "metadata": {},
   "source": [
    "<h1> Wage Estimator (Machine Learning HW5)\n",
    "    <h4> submitted by: - Ujjawal Gupta and Dhaval Pathak"
   ]
  },
  {
   "cell_type": "code",
   "execution_count": 118,
   "metadata": {},
   "outputs": [],
   "source": [
    "import pandas as pd\n",
    "import numpy as np\n",
    "from sklearn.preprocessing import LabelBinarizer\n",
    "from sklearn.preprocessing import StandardScaler\n",
    "from sklearn.preprocessing import MinMaxScaler\n",
    "from sklearn import datasets, linear_model\n",
    "from sklearn.metrics import mean_squared_error\n",
    "from sklearn.cross_validation import train_test_split\n",
    "from sklearn.cross_validation import KFold, cross_val_score, cross_val_predict\n",
    "import matplotlib.pyplot as plt\n",
    "import math"
   ]
  },
  {
   "cell_type": "markdown",
   "metadata": {},
   "source": [
    "<h2> Loading The Training dataset"
   ]
  },
  {
   "cell_type": "code",
   "execution_count": 4,
   "metadata": {},
   "outputs": [],
   "source": [
    "cols = ['idnum', 'age', 'workerclass', 'interestincome', 'traveltimetowork', 'vehicleoccupancy', 'meansoftransport',\n",
    "        'marital', 'schoolenrollment', 'educationalattain', 'sex', 'workarrivaltime', 'hoursworkperweek', 'ancestry',\n",
    "        'degreefield', 'industryworkedin', 'wages']\n",
    "df_train = pd.DataFrame()\n",
    "df_load = pd.read_csv(\"census_train.csv\", header=None)\n",
    "c = 0\n",
    "for i in cols:\n",
    "    df_train[i] = df_load[c]\n",
    "    c += 1"
   ]
  },
  {
   "cell_type": "code",
   "execution_count": 5,
   "metadata": {},
   "outputs": [],
   "source": [
    "for i in range(len(df_train.columns)):\n",
    "    df_train[df_train.columns[i]] = df_train[df_train.columns[i]].astype(str).replace({'?': 0})"
   ]
  },
  {
   "cell_type": "code",
   "execution_count": 6,
   "metadata": {},
   "outputs": [
    {
     "data": {
      "text/html": [
       "<div>\n",
       "<style scoped>\n",
       "    .dataframe tbody tr th:only-of-type {\n",
       "        vertical-align: middle;\n",
       "    }\n",
       "\n",
       "    .dataframe tbody tr th {\n",
       "        vertical-align: top;\n",
       "    }\n",
       "\n",
       "    .dataframe thead th {\n",
       "        text-align: right;\n",
       "    }\n",
       "</style>\n",
       "<table border=\"1\" class=\"dataframe\">\n",
       "  <thead>\n",
       "    <tr style=\"text-align: right;\">\n",
       "      <th></th>\n",
       "      <th>idnum</th>\n",
       "      <th>age</th>\n",
       "      <th>workerclass</th>\n",
       "      <th>interestincome</th>\n",
       "      <th>traveltimetowork</th>\n",
       "      <th>vehicleoccupancy</th>\n",
       "      <th>meansoftransport</th>\n",
       "      <th>marital</th>\n",
       "      <th>schoolenrollment</th>\n",
       "      <th>educationalattain</th>\n",
       "      <th>sex</th>\n",
       "      <th>workarrivaltime</th>\n",
       "      <th>hoursworkperweek</th>\n",
       "      <th>ancestry</th>\n",
       "      <th>degreefield</th>\n",
       "      <th>industryworkedin</th>\n",
       "      <th>wages</th>\n",
       "    </tr>\n",
       "  </thead>\n",
       "  <tbody>\n",
       "    <tr>\n",
       "      <th>0</th>\n",
       "      <td>0</td>\n",
       "      <td>58</td>\n",
       "      <td>3</td>\n",
       "      <td>0</td>\n",
       "      <td>40</td>\n",
       "      <td>2</td>\n",
       "      <td>1</td>\n",
       "      <td>1</td>\n",
       "      <td>1</td>\n",
       "      <td>22</td>\n",
       "      <td>1</td>\n",
       "      <td>84</td>\n",
       "      <td>40</td>\n",
       "      <td>32</td>\n",
       "      <td>2300</td>\n",
       "      <td>7870</td>\n",
       "      <td>110000</td>\n",
       "    </tr>\n",
       "    <tr>\n",
       "      <th>1</th>\n",
       "      <td>1</td>\n",
       "      <td>34</td>\n",
       "      <td>3</td>\n",
       "      <td>0</td>\n",
       "      <td>10</td>\n",
       "      <td>1</td>\n",
       "      <td>1</td>\n",
       "      <td>5</td>\n",
       "      <td>1</td>\n",
       "      <td>16</td>\n",
       "      <td>1</td>\n",
       "      <td>168</td>\n",
       "      <td>40</td>\n",
       "      <td>51</td>\n",
       "      <td>0</td>\n",
       "      <td>7860</td>\n",
       "      <td>34500</td>\n",
       "    </tr>\n",
       "    <tr>\n",
       "      <th>2</th>\n",
       "      <td>2</td>\n",
       "      <td>57</td>\n",
       "      <td>2</td>\n",
       "      <td>0</td>\n",
       "      <td>15</td>\n",
       "      <td>8</td>\n",
       "      <td>1</td>\n",
       "      <td>5</td>\n",
       "      <td>1</td>\n",
       "      <td>16</td>\n",
       "      <td>1</td>\n",
       "      <td>100</td>\n",
       "      <td>30</td>\n",
       "      <td>51</td>\n",
       "      <td>0</td>\n",
       "      <td>8390</td>\n",
       "      <td>4700</td>\n",
       "    </tr>\n",
       "    <tr>\n",
       "      <th>3</th>\n",
       "      <td>3</td>\n",
       "      <td>17</td>\n",
       "      <td>0</td>\n",
       "      <td>0</td>\n",
       "      <td>0</td>\n",
       "      <td>0</td>\n",
       "      <td>0</td>\n",
       "      <td>5</td>\n",
       "      <td>2</td>\n",
       "      <td>15</td>\n",
       "      <td>2</td>\n",
       "      <td>0</td>\n",
       "      <td>0</td>\n",
       "      <td>714</td>\n",
       "      <td>0</td>\n",
       "      <td>0</td>\n",
       "      <td>0</td>\n",
       "    </tr>\n",
       "    <tr>\n",
       "      <th>4</th>\n",
       "      <td>4</td>\n",
       "      <td>42</td>\n",
       "      <td>1</td>\n",
       "      <td>0</td>\n",
       "      <td>20</td>\n",
       "      <td>1</td>\n",
       "      <td>1</td>\n",
       "      <td>1</td>\n",
       "      <td>1</td>\n",
       "      <td>22</td>\n",
       "      <td>1</td>\n",
       "      <td>92</td>\n",
       "      <td>45</td>\n",
       "      <td>21</td>\n",
       "      <td>5001</td>\n",
       "      <td>6990</td>\n",
       "      <td>120000</td>\n",
       "    </tr>\n",
       "  </tbody>\n",
       "</table>\n",
       "</div>"
      ],
      "text/plain": [
       "  idnum age workerclass interestincome traveltimetowork vehicleoccupancy  \\\n",
       "0     0  58           3              0               40                2   \n",
       "1     1  34           3              0               10                1   \n",
       "2     2  57           2              0               15                8   \n",
       "3     3  17           0              0                0                0   \n",
       "4     4  42           1              0               20                1   \n",
       "\n",
       "  meansoftransport marital schoolenrollment educationalattain sex  \\\n",
       "0                1       1                1                22   1   \n",
       "1                1       5                1                16   1   \n",
       "2                1       5                1                16   1   \n",
       "3                0       5                2                15   2   \n",
       "4                1       1                1                22   1   \n",
       "\n",
       "  workarrivaltime hoursworkperweek ancestry degreefield industryworkedin  \\\n",
       "0              84               40       32        2300             7870   \n",
       "1             168               40       51           0             7860   \n",
       "2             100               30       51           0             8390   \n",
       "3               0                0      714           0                0   \n",
       "4              92               45       21        5001             6990   \n",
       "\n",
       "    wages  \n",
       "0  110000  \n",
       "1   34500  \n",
       "2    4700  \n",
       "3       0  \n",
       "4  120000  "
      ]
     },
     "execution_count": 6,
     "metadata": {},
     "output_type": "execute_result"
    }
   ],
   "source": [
    "df_train.head()"
   ]
  },
  {
   "cell_type": "code",
   "execution_count": 7,
   "metadata": {},
   "outputs": [],
   "source": [
    "# (df_train == 0).astype(int).sum(axis=0)"
   ]
  },
  {
   "cell_type": "code",
   "execution_count": 8,
   "metadata": {},
   "outputs": [
    {
     "data": {
      "text/plain": [
       "idnum                 int64\n",
       "age                   int64\n",
       "workerclass          object\n",
       "interestincome        int64\n",
       "traveltimetowork      int64\n",
       "vehicleoccupancy     object\n",
       "meansoftransport     object\n",
       "marital              object\n",
       "schoolenrollment     object\n",
       "educationalattain    object\n",
       "sex                  object\n",
       "workarrivaltime      object\n",
       "hoursworkperweek      int64\n",
       "ancestry             object\n",
       "degreefield          object\n",
       "industryworkedin     object\n",
       "wages                 int64\n",
       "dtype: object"
      ]
     },
     "execution_count": 8,
     "metadata": {},
     "output_type": "execute_result"
    }
   ],
   "source": [
    "df_train[[\"idnum\", \"age\", \"interestincome\", \"wages\", \"hoursworkperweek\", \"traveltimetowork\"]] = df_train[[\"idnum\", \"age\", \"interestincome\", \"wages\", \"hoursworkperweek\", \"traveltimetowork\"]].apply(pd.to_numeric)\n",
    "df_train.dtypes"
   ]
  },
  {
   "cell_type": "code",
   "execution_count": 9,
   "metadata": {},
   "outputs": [],
   "source": [
    "df_train2 = df_train.copy()"
   ]
  },
  {
   "cell_type": "markdown",
   "metadata": {},
   "source": [
    "<h2> Dropping the unnecessary features"
   ]
  },
  {
   "cell_type": "code",
   "execution_count": 10,
   "metadata": {},
   "outputs": [],
   "source": [
    "df_train = df_train.drop(['vehicleoccupancy'], axis=1)\n",
    "df_train = df_train.drop(['workarrivaltime'], axis=1)\n",
    "df_train = df_train.drop(['meansoftransport'], axis=1)\n",
    "df_train = df_train.drop(['marital'], axis=1)\n",
    "df_train = df_train.drop(['schoolenrollment'], axis=1)\n",
    "df_train = df_train.drop(['ancestry'], axis=1)\n",
    "df_train = df_train.drop(['age'], axis=1)\n",
    "df_train = df_train.drop(['sex'], axis=1)\n",
    "df_train = df_train.drop(['degreefield'], axis=1)\n",
    "df_train = df_train.drop(['traveltimetowork'], axis=1)\n",
    "df_train = df_train.drop(['industryworkedin'], axis=1)"
   ]
  },
  {
   "cell_type": "markdown",
   "metadata": {},
   "source": [
    "<h2> One hot encoding selected Object dtype features"
   ]
  },
  {
   "cell_type": "code",
   "execution_count": 11,
   "metadata": {},
   "outputs": [],
   "source": [
    "df_train = pd.get_dummies(df_train)"
   ]
  },
  {
   "cell_type": "code",
   "execution_count": 12,
   "metadata": {},
   "outputs": [
    {
     "data": {
      "text/plain": [
       "(1184, 24)"
      ]
     },
     "execution_count": 12,
     "metadata": {},
     "output_type": "execute_result"
    }
   ],
   "source": [
    "df_train.shape"
   ]
  },
  {
   "cell_type": "code",
   "execution_count": 13,
   "metadata": {},
   "outputs": [
    {
     "data": {
      "text/html": [
       "<div>\n",
       "<style scoped>\n",
       "    .dataframe tbody tr th:only-of-type {\n",
       "        vertical-align: middle;\n",
       "    }\n",
       "\n",
       "    .dataframe tbody tr th {\n",
       "        vertical-align: top;\n",
       "    }\n",
       "\n",
       "    .dataframe thead th {\n",
       "        text-align: right;\n",
       "    }\n",
       "</style>\n",
       "<table border=\"1\" class=\"dataframe\">\n",
       "  <thead>\n",
       "    <tr style=\"text-align: right;\">\n",
       "      <th></th>\n",
       "      <th>idnum</th>\n",
       "      <th>interestincome</th>\n",
       "      <th>hoursworkperweek</th>\n",
       "      <th>wages</th>\n",
       "      <th>workerclass_0</th>\n",
       "      <th>workerclass_1</th>\n",
       "      <th>workerclass_2</th>\n",
       "      <th>workerclass_3</th>\n",
       "      <th>workerclass_4</th>\n",
       "      <th>workerclass_5</th>\n",
       "      <th>...</th>\n",
       "      <th>educationalattain_15</th>\n",
       "      <th>educationalattain_16</th>\n",
       "      <th>educationalattain_17</th>\n",
       "      <th>educationalattain_18</th>\n",
       "      <th>educationalattain_19</th>\n",
       "      <th>educationalattain_20</th>\n",
       "      <th>educationalattain_21</th>\n",
       "      <th>educationalattain_22</th>\n",
       "      <th>educationalattain_23</th>\n",
       "      <th>educationalattain_24</th>\n",
       "    </tr>\n",
       "  </thead>\n",
       "  <tbody>\n",
       "    <tr>\n",
       "      <th>0</th>\n",
       "      <td>0</td>\n",
       "      <td>0</td>\n",
       "      <td>40</td>\n",
       "      <td>110000</td>\n",
       "      <td>0</td>\n",
       "      <td>0</td>\n",
       "      <td>0</td>\n",
       "      <td>1</td>\n",
       "      <td>0</td>\n",
       "      <td>0</td>\n",
       "      <td>...</td>\n",
       "      <td>0</td>\n",
       "      <td>0</td>\n",
       "      <td>0</td>\n",
       "      <td>0</td>\n",
       "      <td>0</td>\n",
       "      <td>0</td>\n",
       "      <td>0</td>\n",
       "      <td>1</td>\n",
       "      <td>0</td>\n",
       "      <td>0</td>\n",
       "    </tr>\n",
       "    <tr>\n",
       "      <th>1</th>\n",
       "      <td>1</td>\n",
       "      <td>0</td>\n",
       "      <td>40</td>\n",
       "      <td>34500</td>\n",
       "      <td>0</td>\n",
       "      <td>0</td>\n",
       "      <td>0</td>\n",
       "      <td>1</td>\n",
       "      <td>0</td>\n",
       "      <td>0</td>\n",
       "      <td>...</td>\n",
       "      <td>0</td>\n",
       "      <td>1</td>\n",
       "      <td>0</td>\n",
       "      <td>0</td>\n",
       "      <td>0</td>\n",
       "      <td>0</td>\n",
       "      <td>0</td>\n",
       "      <td>0</td>\n",
       "      <td>0</td>\n",
       "      <td>0</td>\n",
       "    </tr>\n",
       "    <tr>\n",
       "      <th>2</th>\n",
       "      <td>2</td>\n",
       "      <td>0</td>\n",
       "      <td>30</td>\n",
       "      <td>4700</td>\n",
       "      <td>0</td>\n",
       "      <td>0</td>\n",
       "      <td>1</td>\n",
       "      <td>0</td>\n",
       "      <td>0</td>\n",
       "      <td>0</td>\n",
       "      <td>...</td>\n",
       "      <td>0</td>\n",
       "      <td>1</td>\n",
       "      <td>0</td>\n",
       "      <td>0</td>\n",
       "      <td>0</td>\n",
       "      <td>0</td>\n",
       "      <td>0</td>\n",
       "      <td>0</td>\n",
       "      <td>0</td>\n",
       "      <td>0</td>\n",
       "    </tr>\n",
       "    <tr>\n",
       "      <th>3</th>\n",
       "      <td>3</td>\n",
       "      <td>0</td>\n",
       "      <td>0</td>\n",
       "      <td>0</td>\n",
       "      <td>1</td>\n",
       "      <td>0</td>\n",
       "      <td>0</td>\n",
       "      <td>0</td>\n",
       "      <td>0</td>\n",
       "      <td>0</td>\n",
       "      <td>...</td>\n",
       "      <td>1</td>\n",
       "      <td>0</td>\n",
       "      <td>0</td>\n",
       "      <td>0</td>\n",
       "      <td>0</td>\n",
       "      <td>0</td>\n",
       "      <td>0</td>\n",
       "      <td>0</td>\n",
       "      <td>0</td>\n",
       "      <td>0</td>\n",
       "    </tr>\n",
       "    <tr>\n",
       "      <th>4</th>\n",
       "      <td>4</td>\n",
       "      <td>0</td>\n",
       "      <td>45</td>\n",
       "      <td>120000</td>\n",
       "      <td>0</td>\n",
       "      <td>1</td>\n",
       "      <td>0</td>\n",
       "      <td>0</td>\n",
       "      <td>0</td>\n",
       "      <td>0</td>\n",
       "      <td>...</td>\n",
       "      <td>0</td>\n",
       "      <td>0</td>\n",
       "      <td>0</td>\n",
       "      <td>0</td>\n",
       "      <td>0</td>\n",
       "      <td>0</td>\n",
       "      <td>0</td>\n",
       "      <td>1</td>\n",
       "      <td>0</td>\n",
       "      <td>0</td>\n",
       "    </tr>\n",
       "  </tbody>\n",
       "</table>\n",
       "<p>5 rows × 24 columns</p>\n",
       "</div>"
      ],
      "text/plain": [
       "   idnum  interestincome  hoursworkperweek   wages  workerclass_0  \\\n",
       "0      0               0                40  110000              0   \n",
       "1      1               0                40   34500              0   \n",
       "2      2               0                30    4700              0   \n",
       "3      3               0                 0       0              1   \n",
       "4      4               0                45  120000              0   \n",
       "\n",
       "   workerclass_1  workerclass_2  workerclass_3  workerclass_4  workerclass_5  \\\n",
       "0              0              0              1              0              0   \n",
       "1              0              0              1              0              0   \n",
       "2              0              1              0              0              0   \n",
       "3              0              0              0              0              0   \n",
       "4              1              0              0              0              0   \n",
       "\n",
       "           ...           educationalattain_15  educationalattain_16  \\\n",
       "0          ...                              0                     0   \n",
       "1          ...                              0                     1   \n",
       "2          ...                              0                     1   \n",
       "3          ...                              1                     0   \n",
       "4          ...                              0                     0   \n",
       "\n",
       "   educationalattain_17  educationalattain_18  educationalattain_19  \\\n",
       "0                     0                     0                     0   \n",
       "1                     0                     0                     0   \n",
       "2                     0                     0                     0   \n",
       "3                     0                     0                     0   \n",
       "4                     0                     0                     0   \n",
       "\n",
       "   educationalattain_20  educationalattain_21  educationalattain_22  \\\n",
       "0                     0                     0                     1   \n",
       "1                     0                     0                     0   \n",
       "2                     0                     0                     0   \n",
       "3                     0                     0                     0   \n",
       "4                     0                     0                     1   \n",
       "\n",
       "   educationalattain_23  educationalattain_24  \n",
       "0                     0                     0  \n",
       "1                     0                     0  \n",
       "2                     0                     0  \n",
       "3                     0                     0  \n",
       "4                     0                     0  \n",
       "\n",
       "[5 rows x 24 columns]"
      ]
     },
     "execution_count": 13,
     "metadata": {},
     "output_type": "execute_result"
    }
   ],
   "source": [
    "df_train.head()"
   ]
  },
  {
   "cell_type": "markdown",
   "metadata": {},
   "source": [
    "<h2>Converting Feature data and Wages into an Numpy Array"
   ]
  },
  {
   "cell_type": "code",
   "execution_count": 14,
   "metadata": {},
   "outputs": [],
   "source": [
    "wages = np.array(df_train['wages'])"
   ]
  },
  {
   "cell_type": "code",
   "execution_count": 15,
   "metadata": {},
   "outputs": [],
   "source": [
    "df_train = df_train.drop(['wages'], axis=1)\n",
    "df_train = df_train.drop(['idnum'], axis=1)"
   ]
  },
  {
   "cell_type": "code",
   "execution_count": 16,
   "metadata": {},
   "outputs": [],
   "source": [
    "df_train_columns = list(df_train.columns)"
   ]
  },
  {
   "cell_type": "code",
   "execution_count": 17,
   "metadata": {},
   "outputs": [],
   "source": [
    "df_train = np.array(df_train)"
   ]
  },
  {
   "cell_type": "markdown",
   "metadata": {},
   "source": [
    "<h2> Spliting the Data is Training and Test"
   ]
  },
  {
   "cell_type": "code",
   "execution_count": 18,
   "metadata": {},
   "outputs": [],
   "source": [
    "df_train1, df_test, df_train1_wages, df_test_wages = train_test_split(df_train, wages, test_size = 0.25, random_state = 42)"
   ]
  },
  {
   "cell_type": "markdown",
   "metadata": {},
   "source": [
    "<h2>Importing Random Forest libraries"
   ]
  },
  {
   "cell_type": "code",
   "execution_count": 19,
   "metadata": {},
   "outputs": [
    {
     "name": "stderr",
     "output_type": "stream",
     "text": [
      "/anaconda3/lib/python3.7/site-packages/sklearn/ensemble/weight_boosting.py:29: DeprecationWarning: numpy.core.umath_tests is an internal NumPy module and should not be imported. It will be removed in a future NumPy release.\n",
      "  from numpy.core.umath_tests import inner1d\n"
     ]
    }
   ],
   "source": [
    "from sklearn.ensemble import RandomForestRegressor\n",
    "from sklearn.model_selection import StratifiedKFold\n",
    "from sklearn.model_selection import RandomizedSearchCV"
   ]
  },
  {
   "cell_type": "markdown",
   "metadata": {},
   "source": [
    "<h2> Defining parameter ranges for hyperparameter tuning"
   ]
  },
  {
   "cell_type": "code",
   "execution_count": 20,
   "metadata": {},
   "outputs": [],
   "source": [
    "# Number of trees in random forest\n",
    "n_estimators = [int(x) for x in np.linspace(start = 200, stop = 2000, num = 10)]\n",
    "# Number of features to consider at every split\n",
    "max_features = ['auto', 'sqrt']\n",
    "# Maximum number of levels in tree\n",
    "max_depth = [int(x) for x in np.linspace(10, 110, num = 11)]\n",
    "max_depth.append(None)\n",
    "# Minimum number of samples required to split a node\n",
    "min_samples_split = [2, 5, 10]\n",
    "# Minimum number of samples required at each leaf node\n",
    "min_samples_leaf = [1, 2, 4]\n",
    "# Method of selecting samples for training each tree\n",
    "bootstrap = [True, False]\n",
    "# Create the random grid\n",
    "random_grid = {'n_estimators': n_estimators,\n",
    "               'max_features': max_features,\n",
    "               'max_depth': max_depth,\n",
    "               'min_samples_split': min_samples_split,\n",
    "               'min_samples_leaf': min_samples_leaf,\n",
    "               'bootstrap': bootstrap}"
   ]
  },
  {
   "cell_type": "markdown",
   "metadata": {},
   "source": [
    "<h2> Running the function finding the best parameters for selected feature set"
   ]
  },
  {
   "cell_type": "code",
   "execution_count": 39,
   "metadata": {},
   "outputs": [],
   "source": [
    "# rf_random = RandomizedSearchCV(estimator = rf, param_distributions = random_grid, n_iter = 100, cv = 3, \n",
    "#                                verbose=2, random_state=42, n_jobs = -1)"
   ]
  },
  {
   "cell_type": "code",
   "execution_count": 40,
   "metadata": {},
   "outputs": [],
   "source": [
    "# rf_random.best_params_"
   ]
  },
  {
   "cell_type": "code",
   "execution_count": 21,
   "metadata": {
    "scrolled": false
   },
   "outputs": [],
   "source": [
    "rf = RandomForestRegressor(n_estimators = 2000,\n",
    " min_samples_split = 10,\n",
    " min_samples_leaf = 2,\n",
    " max_features = 'auto',\n",
    " max_depth = 40,\n",
    " bootstrap = True)"
   ]
  },
  {
   "cell_type": "markdown",
   "metadata": {},
   "source": [
    "<h2> Applying Cross Validation"
   ]
  },
  {
   "cell_type": "code",
   "execution_count": 31,
   "metadata": {},
   "outputs": [
    {
     "name": "stdout",
     "output_type": "stream",
     "text": [
      "2 -4009898254.293438\n",
      "3 -3560552958.614225\n",
      "4 -3749253073.1771336\n",
      "5 -3678688278.660408\n",
      "6 -3629906982.4460006\n",
      "7 -3485695954.4338584\n",
      "8 -3635289352.2853074\n",
      "9 -3509990629.229298\n",
      "10 -3541033845.0760794\n"
     ]
    }
   ],
   "source": [
    "for k in range(2,11):\n",
    "    result = cross_val_score(rf, X=df_train1, y=df_train1_wages, cv=k, n_jobs=1, scoring='neg_mean_squared_error')\n",
    "    print(k, result.mean())"
   ]
  },
  {
   "cell_type": "code",
   "execution_count": 564,
   "metadata": {},
   "outputs": [
    {
     "data": {
      "text/plain": [
       "{'n_estimators': 2000,\n",
       " 'min_samples_split': 10,\n",
       " 'min_samples_leaf': 2,\n",
       " 'max_features': 'auto',\n",
       " 'max_depth': 40,\n",
       " 'bootstrap': True}"
      ]
     },
     "execution_count": 564,
     "metadata": {},
     "output_type": "execute_result"
    }
   ],
   "source": [
    "# rf_random.best_params_"
   ]
  },
  {
   "cell_type": "markdown",
   "metadata": {},
   "source": [
    "<h2> Calculating the result on test set"
   ]
  },
  {
   "cell_type": "code",
   "execution_count": 51,
   "metadata": {},
   "outputs": [
    {
     "data": {
      "text/plain": [
       "RandomForestRegressor(bootstrap=True, criterion='mse', max_depth=40,\n",
       "           max_features='auto', max_leaf_nodes=None,\n",
       "           min_impurity_decrease=0.0, min_impurity_split=None,\n",
       "           min_samples_leaf=2, min_samples_split=10,\n",
       "           min_weight_fraction_leaf=0.0, n_estimators=2000, n_jobs=1,\n",
       "           oob_score=False, random_state=None, verbose=0, warm_start=False)"
      ]
     },
     "execution_count": 51,
     "metadata": {},
     "output_type": "execute_result"
    }
   ],
   "source": [
    "rf.fit(df_train1,df_train1_wages)"
   ]
  },
  {
   "cell_type": "code",
   "execution_count": 52,
   "metadata": {},
   "outputs": [],
   "source": [
    "predictions = rf.predict(df_test)"
   ]
  },
  {
   "cell_type": "code",
   "execution_count": 53,
   "metadata": {},
   "outputs": [],
   "source": [
    "errors = abs(predictions - df_test_wages)"
   ]
  },
  {
   "cell_type": "code",
   "execution_count": 54,
   "metadata": {},
   "outputs": [
    {
     "name": "stdout",
     "output_type": "stream",
     "text": [
      "Mean Absolute Error: 22120.81\n"
     ]
    }
   ],
   "source": [
    "print('Mean Absolute Error:', round(np.mean(errors), 2),)"
   ]
  },
  {
   "cell_type": "code",
   "execution_count": 55,
   "metadata": {},
   "outputs": [
    {
     "name": "stdout",
     "output_type": "stream",
     "text": [
      "62172.183294317656\n",
      "Mean squared error: 3865380375.58\n"
     ]
    }
   ],
   "source": [
    "s = 0\n",
    "for i,j in zip(df_test_wages, predictions):\n",
    "    s += (i-j)**2\n",
    "print(math.sqrt(s/len(df_test_wages)))\n",
    "print(\"Mean squared error: %.2f\" % mean_squared_error(df_test_wages, predictions))"
   ]
  },
  {
   "cell_type": "markdown",
   "metadata": {},
   "source": [
    "<h2> Linear Regression\n",
    "    <h4> Dropping the unnecesary features"
   ]
  },
  {
   "cell_type": "code",
   "execution_count": 56,
   "metadata": {},
   "outputs": [],
   "source": [
    "df_train2 = df_train2.drop(['vehicleoccupancy'], axis=1)\n",
    "df_train2 = df_train2.drop(['workarrivaltime'], axis=1)\n",
    "df_train2 = df_train2.drop(['meansoftransport'], axis=1)\n",
    "df_train2 = df_train2.drop(['marital'], axis=1)\n",
    "df_train2 = df_train2.drop(['schoolenrollment'], axis=1)\n",
    "df_train2 = df_train2.drop(['ancestry'], axis=1)\n",
    "df_train2 = df_train2.drop(['degreefield'], axis=1)\n",
    "df_train2 = df_train2.drop(['educationalattain'], axis=1)\n",
    "df_train2 = df_train2.drop(['industryworkedin'], axis=1)\n",
    "df_train2 = df_train2.drop(['workerclass'], axis=1)\n",
    "df_train2 = df_train2.drop(['sex'], axis=1)\n",
    "df_train2 = df_train2.drop(['traveltimetowork'], axis=1)"
   ]
  },
  {
   "cell_type": "code",
   "execution_count": 57,
   "metadata": {},
   "outputs": [],
   "source": [
    "# df_train2['traveltimetowork'] = df_train2['traveltimetowork'].fillna(df_train2['traveltimetowork'].median())\n",
    "# df_train2['hoursworkperweek'] = df_train2['hoursworkperweek'].fillna(df_train2['hoursworkperweek'].median())\n",
    "# # df_train['wages'] = df_train['wages'].replace({'0' : str(df_train['wages'].median())})"
   ]
  },
  {
   "cell_type": "code",
   "execution_count": 58,
   "metadata": {},
   "outputs": [],
   "source": [
    "# df_train2[(df_train2 != 0).all(1)]\n",
    "# # for i in range(len(df_train2.columns)):\n",
    "# #     df_train2['wages'] = df_train2['wages'].replace({'0': None})\n",
    "# # df_train2 = df_train2.dropna()"
   ]
  },
  {
   "cell_type": "code",
   "execution_count": 59,
   "metadata": {},
   "outputs": [
    {
     "data": {
      "text/html": [
       "<div>\n",
       "<style scoped>\n",
       "    .dataframe tbody tr th:only-of-type {\n",
       "        vertical-align: middle;\n",
       "    }\n",
       "\n",
       "    .dataframe tbody tr th {\n",
       "        vertical-align: top;\n",
       "    }\n",
       "\n",
       "    .dataframe thead th {\n",
       "        text-align: right;\n",
       "    }\n",
       "</style>\n",
       "<table border=\"1\" class=\"dataframe\">\n",
       "  <thead>\n",
       "    <tr style=\"text-align: right;\">\n",
       "      <th></th>\n",
       "      <th>interestincome</th>\n",
       "      <th>hoursworkperweek</th>\n",
       "      <th>wages</th>\n",
       "    </tr>\n",
       "  </thead>\n",
       "  <tbody>\n",
       "    <tr>\n",
       "      <th>0</th>\n",
       "      <td>0</td>\n",
       "      <td>40</td>\n",
       "      <td>110000</td>\n",
       "    </tr>\n",
       "    <tr>\n",
       "      <th>1</th>\n",
       "      <td>0</td>\n",
       "      <td>40</td>\n",
       "      <td>34500</td>\n",
       "    </tr>\n",
       "    <tr>\n",
       "      <th>2</th>\n",
       "      <td>0</td>\n",
       "      <td>30</td>\n",
       "      <td>4700</td>\n",
       "    </tr>\n",
       "    <tr>\n",
       "      <th>3</th>\n",
       "      <td>0</td>\n",
       "      <td>0</td>\n",
       "      <td>0</td>\n",
       "    </tr>\n",
       "    <tr>\n",
       "      <th>4</th>\n",
       "      <td>0</td>\n",
       "      <td>45</td>\n",
       "      <td>120000</td>\n",
       "    </tr>\n",
       "  </tbody>\n",
       "</table>\n",
       "</div>"
      ],
      "text/plain": [
       "   interestincome  hoursworkperweek   wages\n",
       "0               0                40  110000\n",
       "1               0                40   34500\n",
       "2               0                30    4700\n",
       "3               0                 0       0\n",
       "4               0                45  120000"
      ]
     },
     "execution_count": 59,
     "metadata": {},
     "output_type": "execute_result"
    }
   ],
   "source": [
    "df_train_scale = pd.DataFrame()\n",
    "# df_train_scale['age'] = df_train2['age']\n",
    "df_train_scale['interestincome'] = df_train2['interestincome']\n",
    "df_train_scale['hoursworkperweek'] = df_train2['hoursworkperweek']\n",
    "df_train_scale['wages'] = df_train2['wages']\n",
    "# df_train_scale['sex'] = df_train['sex']\n",
    "df_train_final = df_train_scale\n",
    "# scaler = MinMaxScaler()\n",
    "# df_train_final[['wages']] = scaler.fit_transform(df_train_final[['wages']])\n",
    "# df_train_temp = pd.DataFrame()\n",
    "# cat.remove('sex')\n",
    "# for i in cat:\n",
    "#     lb = LabelBinarizer()\n",
    "#     lb_results = lb.fit_transform(df_train[i])\n",
    "#     cols = []\n",
    "#     for j in lb.classes_:\n",
    "#         cols.append(i + j)\n",
    "#     df_train_temp = pd.DataFrame(lb_results, columns=cols)\n",
    "#     df_train_final = df_train_final.join(df_train_temp)\n",
    "df_train_final.head()"
   ]
  },
  {
   "cell_type": "markdown",
   "metadata": {},
   "source": [
    "<h2>Training the model and calculating MSE"
   ]
  },
  {
   "cell_type": "code",
   "execution_count": 60,
   "metadata": {},
   "outputs": [],
   "source": [
    "df_wages = df_train_final['wages']\n",
    "df_train_final = df_train_final.drop(['wages'], axis=1)"
   ]
  },
  {
   "cell_type": "code",
   "execution_count": 61,
   "metadata": {},
   "outputs": [],
   "source": [
    "scaler = MinMaxScaler()\n",
    "df_train_final = scaler.fit_transform(df_train_final)\n",
    "df_train_1, df_test_1, wages_train_1, wages_test_1 = train_test_split(df_train_final, df_wages, test_size=0.2, random_state=42)"
   ]
  },
  {
   "cell_type": "code",
   "execution_count": 62,
   "metadata": {},
   "outputs": [
    {
     "name": "stdout",
     "output_type": "stream",
     "text": [
      "73994.45894184745\n",
      "Mean squared error: 5475179954.10\n"
     ]
    }
   ],
   "source": [
    "regr = linear_model.LinearRegression()\n",
    "regr.fit(df_train_1, wages_train_1)\n",
    "pred = regr.predict(df_test_1)\n",
    "s = 0\n",
    "for i,j in zip(wages_test_1, pred):\n",
    "    s += (i-j)**2\n",
    "print(math.sqrt(s/len(wages_test_1)))\n",
    "print(\"Mean squared error: %.2f\" % mean_squared_error(wages_test_1, pred))"
   ]
  },
  {
   "cell_type": "code",
   "execution_count": 14,
   "metadata": {},
   "outputs": [],
   "source": [
    "# import matplotlib.pyplot as plt\n",
    "# df_temp = pd.DataFrame()\n",
    "# df_temp['traveltimetowork'] = df_train['traveltimetowork']\n",
    "# df_temp['wages'] = df_wages\n",
    "# df_temp = df_temp.dropna()\n",
    "# x = df_temp['traveltimetowork']\n",
    "# y = df_temp['wages']\n",
    "# plt.plot(x, y)\n",
    "# plt.show()"
   ]
  },
  {
   "cell_type": "code",
   "execution_count": 15,
   "metadata": {},
   "outputs": [],
   "source": [
    "# ['workerclass','vehicleoccupancy','meansoftransport','marital','schoolenrollment','educationalattain','sex','workarrivaltime','ancestry','degreefield','industryworkedin']:"
   ]
  },
  {
   "cell_type": "code",
   "execution_count": 16,
   "metadata": {},
   "outputs": [],
   "source": [
    "# from sklearn.cross_validation import train_test_split\n",
    "# from sklearn.preprocessing import StandardScaler\n",
    "# scaler = StandardScaler()\n",
    "# df_train = scaler.fit_transform(df_train)\n",
    "# df_train, df_test, wages_train, wages_test = train_test_split(df_train, df_wages, test_size=0.2, random_state=42)"
   ]
  },
  {
   "cell_type": "markdown",
   "metadata": {},
   "source": [
    "<h2>Prediction Using Random Forest Regressor"
   ]
  },
  {
   "cell_type": "code",
   "execution_count": 103,
   "metadata": {},
   "outputs": [],
   "source": [
    " cols = ['idnum', 'age', 'workerclass', 'interestincome', 'traveltimetowork', 'vehicleoccupancy', 'meansoftransport',\n",
    "        'marital', 'schoolenrollment', 'educationalattain', 'sex', 'workarrivaltime', 'hoursworkperweek', 'ancestry',\n",
    "        'degreefield', 'industryworkedin']\n",
    "test_df = pd.DataFrame()\n",
    "df_load = pd.read_csv(\"census_test.csv\", header=None)\n",
    "c = 0\n",
    "for i in cols:\n",
    "    test_df[i] = df_load[c]\n",
    "    c += 1"
   ]
  },
  {
   "cell_type": "code",
   "execution_count": 104,
   "metadata": {},
   "outputs": [],
   "source": [
    "for i in range(len(test_df.columns)):\n",
    "    test_df[test_df.columns[i]] = test_df[test_df.columns[i]].astype(str).replace({'?': 0})"
   ]
  },
  {
   "cell_type": "code",
   "execution_count": 105,
   "metadata": {},
   "outputs": [
    {
     "data": {
      "text/plain": [
       "idnum                 int64\n",
       "age                   int64\n",
       "workerclass          object\n",
       "interestincome        int64\n",
       "traveltimetowork      int64\n",
       "vehicleoccupancy     object\n",
       "meansoftransport     object\n",
       "marital              object\n",
       "schoolenrollment     object\n",
       "educationalattain    object\n",
       "sex                  object\n",
       "workarrivaltime      object\n",
       "hoursworkperweek      int64\n",
       "ancestry             object\n",
       "degreefield          object\n",
       "industryworkedin     object\n",
       "dtype: object"
      ]
     },
     "execution_count": 105,
     "metadata": {},
     "output_type": "execute_result"
    }
   ],
   "source": [
    "test_df[[\"idnum\", \"age\", \"interestincome\", \"hoursworkperweek\", \"traveltimetowork\"]] = test_df[[\"idnum\", \"age\", \"interestincome\", \"hoursworkperweek\", \"traveltimetowork\"]].apply(pd.to_numeric)\n",
    "test_df.dtypes"
   ]
  },
  {
   "cell_type": "code",
   "execution_count": 106,
   "metadata": {},
   "outputs": [],
   "source": [
    "test_df = test_df.drop(['vehicleoccupancy'], axis=1)\n",
    "test_df = test_df.drop(['workarrivaltime'], axis=1)\n",
    "test_df = test_df.drop(['meansoftransport'], axis=1)\n",
    "test_df = test_df.drop(['marital'], axis=1)\n",
    "test_df = test_df.drop(['schoolenrollment'], axis=1)\n",
    "test_df = test_df.drop(['ancestry'], axis=1)\n",
    "test_df = test_df.drop(['age'], axis=1)\n",
    "test_df = test_df.drop(['sex'], axis=1)\n",
    "test_df = test_df.drop(['degreefield'], axis=1)\n",
    "test_df = test_df.drop(['traveltimetowork'], axis=1)\n",
    "test_df = test_df.drop(['industryworkedin'], axis=1)"
   ]
  },
  {
   "cell_type": "code",
   "execution_count": 107,
   "metadata": {},
   "outputs": [
    {
     "data": {
      "text/plain": [
       "(500, 23)"
      ]
     },
     "execution_count": 107,
     "metadata": {},
     "output_type": "execute_result"
    }
   ],
   "source": [
    "test_df = pd.get_dummies(test_df)\n",
    "test_df.shape"
   ]
  },
  {
   "cell_type": "code",
   "execution_count": 108,
   "metadata": {},
   "outputs": [],
   "source": [
    "idnum = test_df['idnum']"
   ]
  },
  {
   "cell_type": "code",
   "execution_count": 109,
   "metadata": {},
   "outputs": [],
   "source": [
    "test_df = test_df.drop(['idnum'], axis=1)"
   ]
  },
  {
   "cell_type": "code",
   "execution_count": 110,
   "metadata": {},
   "outputs": [],
   "source": [
    "test_df = np.array(test_df)"
   ]
  },
  {
   "cell_type": "code",
   "execution_count": 111,
   "metadata": {},
   "outputs": [],
   "source": [
    "Final_Predictions = rf.predict(test_df)"
   ]
  },
  {
   "cell_type": "code",
   "execution_count": 112,
   "metadata": {},
   "outputs": [],
   "source": [
    "Pred = pd.DataFrame(Final_Predictions, columns=['Wages'])"
   ]
  },
  {
   "cell_type": "code",
   "execution_count": 113,
   "metadata": {},
   "outputs": [],
   "source": [
    "result = pd.concat([idnum, Pred], axis=1, join='inner')"
   ]
  },
  {
   "cell_type": "code",
   "execution_count": 115,
   "metadata": {},
   "outputs": [],
   "source": [
    "result.rename(columns={'idnum': 'Id'}, inplace=True)"
   ]
  },
  {
   "cell_type": "markdown",
   "metadata": {},
   "source": [
    "<h2> Storing the results on the output file"
   ]
  },
  {
   "cell_type": "code",
   "execution_count": 117,
   "metadata": {},
   "outputs": [],
   "source": [
    "result.to_csv(\"test_outputs.csv\", index = False, sep=',', encoding='utf-8')"
   ]
  },
  {
   "cell_type": "code",
   "execution_count": null,
   "metadata": {},
   "outputs": [],
   "source": []
  }
 ],
 "metadata": {
  "kernelspec": {
   "display_name": "Python 3",
   "language": "python",
   "name": "python3"
  },
  "language_info": {
   "codemirror_mode": {
    "name": "ipython",
    "version": 3
   },
   "file_extension": ".py",
   "mimetype": "text/x-python",
   "name": "python",
   "nbconvert_exporter": "python",
   "pygments_lexer": "ipython3",
   "version": "3.7.0"
  }
 },
 "nbformat": 4,
 "nbformat_minor": 2
}
