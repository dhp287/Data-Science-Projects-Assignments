{
 "cells": [
  {
   "cell_type": "code",
   "execution_count": 85,
   "metadata": {
    "collapsed": true
   },
   "outputs": [],
   "source": [
    "import pandas as pd\n",
    "import math\n",
    "import statistics as s\n",
    "import operator"
   ]
  },
  {
   "cell_type": "code",
   "execution_count": 86,
   "metadata": {},
   "outputs": [
    {
     "name": "stdout",
     "output_type": "stream",
     "text": [
      "['1', 'a stirring , funny and finally transporting re-imagining of beauty and the beast and 1930s horror films\\t\\n']\n"
     ]
    }
   ],
   "source": [
    "f_train = open(\"reviewstrain.txt\", 'r')\n",
    "lines = f_train.readlines()\n",
    "reviews_train = []\n",
    "r = []\n",
    "for i in lines:\n",
    "    r.append(i[0])\n",
    "    r.append(i[2:])\n",
    "    reviews_train.append(r)\n",
    "    r = []\n",
    "print(reviews_train[0])"
   ]
  },
  {
   "cell_type": "code",
   "execution_count": 87,
   "metadata": {},
   "outputs": [],
   "source": [
    "f_test = open(\"reviewstest.txt\", 'r')\n",
    "line = f_test.readlines()\n",
    "reviews_test = []\n",
    "r = []\n",
    "for i in line:\n",
    "    r.append(i[0])\n",
    "    r.append(i[2:])\n",
    "    reviews_test.append(r)\n",
    "    r = []"
   ]
  },
  {
   "cell_type": "code",
   "execution_count": 88,
   "metadata": {
    "scrolled": false
   },
   "outputs": [
    {
     "name": "stdout",
     "output_type": "stream",
     "text": [
      "Enter the value of k: 1\n"
     ]
    }
   ],
   "source": [
    "str = []\n",
    "score = []\n",
    "row = []\n",
    "final = []\n",
    "cnt = 0\n",
    "sorted_score = []\n",
    "k = int(input('Enter the value of k: '))\n",
    "for rev_test in reviews_test:\n",
    "    for rev_train in reviews_train:\n",
    "        for i in rev_test[1].split():\n",
    "            if(i in ['a', ',', 'and', 'of', 'on', 'the', '.']):\n",
    "                continue\n",
    "            for j in rev_train[1].split():\n",
    "                if(j in ['a', ',', 'and', 'of', 'on', 'the', '.']):\n",
    "                    continue\n",
    "                elif i == j and i not in str:\n",
    "                    str.append(i)\n",
    "        if len(str) == 0:\n",
    "            s = 2\n",
    "        else:\n",
    "            s = 1/len(str)\n",
    "        row.append(s)\n",
    "        row.append(int(rev_train[0]))\n",
    "        row.append(str)\n",
    "        score.append(row)\n",
    "        row = []\n",
    "        str = []\n",
    "    count1 = 0\n",
    "    count0 = 0\n",
    "    sorted_score = sorted(score, key=lambda x: x[0])\n",
    "    score = []\n",
    "    s = 0\n",
    "    for i in range(0, k):\n",
    "        if(sorted_score[i][1] == 1):\n",
    "            count1 += 1\n",
    "        else:\n",
    "            count0 += 1\n",
    "        s = sorted_score[i][1]\n",
    "    i = k\n",
    "    while True:\n",
    "        if sorted_score[i][0] == s:\n",
    "            if(sorted_score[i][1] == 1):\n",
    "                count1 += 1\n",
    "            else:\n",
    "                count0 += 1\n",
    "            i += 1\n",
    "        else:\n",
    "            break\n",
    "    row = []\n",
    "    str = []\n",
    "    if(count1 >= count0):\n",
    "        row.append(1)\n",
    "    else:\n",
    "        row.append(0)\n",
    "    row.append(rev_test)\n",
    "    final.append(row)\n",
    "    row = []"
   ]
  },
  {
   "cell_type": "code",
   "execution_count": 89,
   "metadata": {},
   "outputs": [
    {
     "name": "stdout",
     "output_type": "stream",
     "text": [
      "310\n",
      "0.62\n"
     ]
    }
   ],
   "source": [
    "c = 0\n",
    "for i in final:\n",
    "    if i[0] == int(i[1][0]):\n",
    "          c += 1\n",
    "print(c)\n",
    "print(c / len(final))"
   ]
  },
  {
   "cell_type": "code",
   "execution_count": 90,
   "metadata": {},
   "outputs": [
    {
     "name": "stdout",
     "output_type": "stream",
     "text": [
      "182\n"
     ]
    }
   ],
   "source": [
    "c = 0\n",
    "for i in final:\n",
    "    if i[0] == int(i[1][0]) and i[0] == 1:\n",
    "        c += 1\n",
    "print(c)"
   ]
  },
  {
   "cell_type": "code",
   "execution_count": 91,
   "metadata": {},
   "outputs": [
    {
     "name": "stdout",
     "output_type": "stream",
     "text": [
      "128\n"
     ]
    }
   ],
   "source": [
    "c = 0\n",
    "for i in final:\n",
    "    if i[0] == int(i[1][0]) and i[0] == 0:\n",
    "        c += 1\n",
    "print(c)"
   ]
  },
  {
   "cell_type": "code",
   "execution_count": 92,
   "metadata": {},
   "outputs": [
    {
     "name": "stdout",
     "output_type": "stream",
     "text": [
      "91\n"
     ]
    }
   ],
   "source": [
    "c = 0\n",
    "for i in final:\n",
    "    if i[0] == 0 and int(i[1][0]) == 1:\n",
    "        c += 1\n",
    "print(c)"
   ]
  },
  {
   "cell_type": "code",
   "execution_count": 93,
   "metadata": {},
   "outputs": [
    {
     "name": "stdout",
     "output_type": "stream",
     "text": [
      "99\n"
     ]
    }
   ],
   "source": [
    "c = 0\n",
    "for i in final:\n",
    "    if i[0] == 1 and int(i[1][0]) == 0:\n",
    "        c += 1\n",
    "print(c)"
   ]
  }
 ],
 "metadata": {
  "kernelspec": {
   "display_name": "Python 3",
   "language": "python",
   "name": "python3"
  },
  "language_info": {
   "codemirror_mode": {
    "name": "ipython",
    "version": 3
   },
   "file_extension": ".py",
   "mimetype": "text/x-python",
   "name": "python",
   "nbconvert_exporter": "python",
   "pygments_lexer": "ipython3",
   "version": "3.6.3"
  }
 },
 "nbformat": 4,
 "nbformat_minor": 2
}
