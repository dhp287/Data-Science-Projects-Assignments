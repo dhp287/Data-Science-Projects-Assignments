{
 "cells": [
  {
   "cell_type": "code",
   "execution_count": 4,
   "metadata": {
    "collapsed": true
   },
   "outputs": [],
   "source": [
    "import pandas as pd\n",
    "import math\n",
    "import statistics as s"
   ]
  },
  {
   "cell_type": "code",
   "execution_count": 5,
   "metadata": {},
   "outputs": [
    {
     "name": "stdout",
     "output_type": "stream",
     "text": [
      "['1', 'a stirring , funny and finally transporting re-imagining of beauty and the beast and 1930s horror films\\t\\n']\n"
     ]
    }
   ],
   "source": [
    "f_train = open(\"reviewstrain.txt\", 'r')\n",
    "lines = f_train.readlines()\n",
    "reviews = []\n",
    "r = []\n",
    "for i in lines:\n",
    "    r.append(i[0])\n",
    "    r.append(i[2:])\n",
    "    reviews.append(r)\n",
    "    r = []\n",
    "print(reviews[0])"
   ]
  },
  {
   "cell_type": "code",
   "execution_count": 6,
   "metadata": {
    "scrolled": false
   },
   "outputs": [],
   "source": [
    "str = []\n",
    "score = []\n",
    "row = []\n",
    "final = []\n",
    "start = 0\n",
    "end = 300\n",
    "final3 = []\n",
    "final7 = []\n",
    "final99 = []\n",
    "for k in [7]:\n",
    "    for f in range(0, 5):\n",
    "        reviews_test = reviews[start:end]\n",
    "        if start != 0:\n",
    "            reviews_train = reviews[0:start]\n",
    "            temp = reviews[end:]\n",
    "            reviews_train = reviews_train + temp\n",
    "        else:\n",
    "            reviews_train = reviews[end:]\n",
    "        for rev_test in reviews_test:\n",
    "            for rev_train in reviews_train:\n",
    "                for i in rev_test[1].split():\n",
    "                    for j in rev_train[1].split():\n",
    "                        if i == j and i not in str:\n",
    "                            str.append(i)\n",
    "                if len(str) == 0:\n",
    "                    s = 2\n",
    "                else:\n",
    "                    s = 1/len(str)\n",
    "                row.append(s)\n",
    "                row.append(int(rev_train[0]))\n",
    "                row.append(str)\n",
    "                score.append(row)\n",
    "                row = []\n",
    "                str = []\n",
    "            count1 = 0\n",
    "            count0 = 0\n",
    "            sorted_score = sorted(score, key=lambda x: x[0])\n",
    "            score = []\n",
    "            s = 0\n",
    "            for i in range(0, k):\n",
    "                if(sorted_score[i][1] == 1):\n",
    "                    count1 += 1\n",
    "                else:\n",
    "                    count0 += 1\n",
    "                s = sorted_score[i][1]\n",
    "            i = k\n",
    "            while True:\n",
    "                if sorted_score[i][0] == s:\n",
    "                    if(sorted_score[i][1] == 1):\n",
    "                        count1 += 1\n",
    "                    else:\n",
    "                        count0 += 1\n",
    "                    i += 1\n",
    "                else:\n",
    "                    break\n",
    "            row = []\n",
    "            if(count1 >= count0):\n",
    "                row.append(1)\n",
    "            else:\n",
    "                row.append(0)\n",
    "            row.append(rev_test)\n",
    "            final7.append(row)\n",
    "            row = []\n",
    "        start += 300\n",
    "        end += 300"
   ]
  },
  {
   "cell_type": "code",
   "execution_count": 8,
   "metadata": {},
   "outputs": [
    {
     "name": "stdout",
     "output_type": "stream",
     "text": [
      "976\n",
      "0.6506666666666666\n"
     ]
    }
   ],
   "source": [
    "c = 0\n",
    "for i in final7:\n",
    "    if i[0] == int(i[1][0]):\n",
    "        c += 1\n",
    "print(c)\n",
    "print(c / 1500)"
   ]
  }
 ],
 "metadata": {
  "kernelspec": {
   "display_name": "Python 3",
   "language": "python",
   "name": "python3"
  },
  "language_info": {
   "codemirror_mode": {
    "name": "ipython",
    "version": 3
   },
   "file_extension": ".py",
   "mimetype": "text/x-python",
   "name": "python",
   "nbconvert_exporter": "python",
   "pygments_lexer": "ipython3",
   "version": "3.6.3"
  }
 },
 "nbformat": 4,
 "nbformat_minor": 2
}
