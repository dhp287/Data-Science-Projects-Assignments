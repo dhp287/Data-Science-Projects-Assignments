{
 "cells": [
  {
   "cell_type": "code",
   "execution_count": 43,
   "metadata": {
    "collapsed": true
   },
   "outputs": [],
   "source": [
    "import sys\n",
    "import pandas as pd\n",
    "import numpy as np"
   ]
  },
  {
   "cell_type": "code",
   "execution_count": 44,
   "metadata": {},
   "outputs": [
    {
     "data": {
      "text/plain": [
       "Index(['COLLEGE', 'INCOME', 'OVERAGE', 'LEFTOVER', 'HOUSE', 'HANDSET_PRICE',\n",
       "       'OVER_15MINS_CALLS_PER_MONTH', 'AVERAGE_CALL_DURATION',\n",
       "       'REPORTED_SATISFACTION', 'REPORTED_USAGE_LEVEL',\n",
       "       'CONSIDERING_CHANGE_OF_PLAN', 'LEAVE'],\n",
       "      dtype='object')"
      ]
     },
     "execution_count": 44,
     "metadata": {},
     "output_type": "execute_result"
    }
   ],
   "source": [
    "df_train = pd.read_csv(\"train.csv\")\n",
    "df_train.columns"
   ]
  },
  {
   "cell_type": "code",
   "execution_count": 45,
   "metadata": {},
   "outputs": [
    {
     "data": {
      "text/plain": [
       "(18000, 12)"
      ]
     },
     "execution_count": 45,
     "metadata": {},
     "output_type": "execute_result"
    }
   ],
   "source": [
    "df_train = df_train.dropna(axis=0, how='any')\n",
    "df_train.shape"
   ]
  },
  {
   "cell_type": "code",
   "execution_count": 46,
   "metadata": {
    "collapsed": true
   },
   "outputs": [],
   "source": [
    "leave_train = df_train['LEAVE']\n",
    "df_train = df_train.drop(['LEAVE'],axis=1)"
   ]
  },
  {
   "cell_type": "code",
   "execution_count": 47,
   "metadata": {
    "collapsed": true
   },
   "outputs": [],
   "source": [
    "df_train['REPORTED_SATISFACTION'] = df_train['REPORTED_SATISFACTION'].replace({\"very_sat\": \"1\", \"sat\": \"2\", \"avg\": \"3\", \"unsat\": \"4\", \"very_unsat\": \"5\"})\n",
    "df_train['REPORTED_USAGE_LEVEL'] = df_train['REPORTED_USAGE_LEVEL'].replace({\"very_high\": \"1\", \"high\": \"2\", \"avg\": \"3\", \"little\": \"4\", \"very_little\": \"5\"})\n",
    "df_train['CONSIDERING_CHANGE_OF_PLAN'] = df_train['CONSIDERING_CHANGE_OF_PLAN'].replace({\"no\": \"1\", \"never_thought\": \"2\", \"perhaps\": \"3\", \"considering\": \"4\", \"actively_looking_into_it\": \"5\"})"
   ]
  },
  {
   "cell_type": "code",
   "execution_count": 48,
   "metadata": {
    "collapsed": true
   },
   "outputs": [],
   "source": [
    "df_train['COLLEGE'] = pd.get_dummies(df_train.COLLEGE)['one']"
   ]
  },
  {
   "cell_type": "code",
   "execution_count": 49,
   "metadata": {},
   "outputs": [],
   "source": [
    "from sklearn.cross_validation import train_test_split\n",
    "from sklearn.preprocessing import StandardScaler\n",
    "scaler = StandardScaler()\n",
    "df_train = scaler.fit_transform(df_train)\n",
    "df_train, df_test, leave_train, leave_test = train_test_split(df_train, leave_train, test_size=0.2, random_state=42)"
   ]
  },
  {
   "cell_type": "code",
   "execution_count": 50,
   "metadata": {},
   "outputs": [
    {
     "data": {
      "text/plain": [
       "SVC(C=1.0, cache_size=200, class_weight=None, coef0=0.0,\n",
       "  decision_function_shape='ovr', degree=3, gamma=10, kernel='rbf',\n",
       "  max_iter=-1, probability=False, random_state=None, shrinking=True,\n",
       "  tol=0.001, verbose=False)"
      ]
     },
     "execution_count": 50,
     "metadata": {},
     "output_type": "execute_result"
    }
   ],
   "source": [
    "from sklearn import svm\n",
    "model = svm.SVC(gamma=10)\n",
    "model.fit(df_train,leave_train)"
   ]
  },
  {
   "cell_type": "code",
   "execution_count": 51,
   "metadata": {
    "collapsed": true
   },
   "outputs": [],
   "source": [
    "#df_test = pd.read_csv(\"test.csv\")\n",
    "#df_test.columns"
   ]
  },
  {
   "cell_type": "code",
   "execution_count": 52,
   "metadata": {
    "collapsed": true
   },
   "outputs": [],
   "source": [
    "#df_test = df_test.dropna(axis=0, how='any')\n",
    "#df_test.shape"
   ]
  },
  {
   "cell_type": "code",
   "execution_count": 53,
   "metadata": {
    "collapsed": true
   },
   "outputs": [],
   "source": [
    "#df_test['REPORTED_SATISFACTION'] = df_test['REPORTED_SATISFACTION'].replace({\"very_sat\": \"1\", \"sat\": \"2\", \"avg\": \"3\", \"unsat\": \"4\", \"very_unsat\": \"5\"})\n",
    "#df_test['REPORTED_USAGE_LEVEL'] = df_test['REPORTED_USAGE_LEVEL'].replace({\"very_high\": \"1\", \"high\": \"2\", \"avg\": \"3\", \"little\": \"4\", \"very_little\": \"5\"})\n",
    "#df_test['CONSIDERING_CHANGE_OF_PLAN'] = df_test['CONSIDERING_CHANGE_OF_PLAN'].replace({\"no\": \"1\", \"never_thought\": \"2\", \"perhaps\": \"3\", \"considering\": \"4\", \"actively_looking_into_it\": \"5\"})"
   ]
  },
  {
   "cell_type": "code",
   "execution_count": 54,
   "metadata": {
    "collapsed": true
   },
   "outputs": [],
   "source": [
    "#df_test['COLLEGE'] = pd.get_dummies(df_test.COLLEGE)['one']"
   ]
  },
  {
   "cell_type": "code",
   "execution_count": 55,
   "metadata": {},
   "outputs": [
    {
     "name": "stdout",
     "output_type": "stream",
     "text": [
      "0.516944444444\n"
     ]
    }
   ],
   "source": [
    "from sklearn.metrics import accuracy_score\n",
    "final_leave = pd.DataFrame()\n",
    "final_leave['LEAVE'] = model.predict(df_test)\n",
    "#writer = pd.ExcelWriter('output.xlsx')\n",
    "#final_leave.to_excel(writer,'sheet1')\n",
    "#writer.save()\n",
    "print(accuracy_score(leave_test, final_leave['LEAVE']))"
   ]
  }
 ],
 "metadata": {
  "kernelspec": {
   "display_name": "Python 3",
   "language": "python",
   "name": "python3"
  },
  "language_info": {
   "codemirror_mode": {
    "name": "ipython",
    "version": 3
   },
   "file_extension": ".py",
   "mimetype": "text/x-python",
   "name": "python",
   "nbconvert_exporter": "python",
   "pygments_lexer": "ipython3",
   "version": "3.6.3"
  }
 },
 "nbformat": 4,
 "nbformat_minor": 2
}
